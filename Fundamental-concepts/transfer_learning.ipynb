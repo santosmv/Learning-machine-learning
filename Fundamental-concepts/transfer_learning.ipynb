{
 "cells": [
  {
   "cell_type": "code",
   "execution_count": null,
   "metadata": {},
   "outputs": [],
   "source": []
  }
 ],
 "metadata": {
  "kernelspec": {
   "display_name": "Python 3",
   "language": "python",
   "name": "python3"
  },
  "language_info": {
   "name": "python",
   "version": "3.9.9"
  },
  "orig_nbformat": 4,
  "vscode": {
   "interpreter": {
    "hash": "1e990d233afd70311badbae7ab9b997b7ffd93a748fe192036e93ded9c90ed5c"
   }
  }
 },
 "nbformat": 4,
 "nbformat_minor": 2
}
