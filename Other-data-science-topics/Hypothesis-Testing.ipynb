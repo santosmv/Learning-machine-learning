{
 "cells": [
  {
   "cell_type": "code",
   "execution_count": 69,
   "metadata": {},
   "outputs": [],
   "source": [
    "from scipy.stats import skewnorm, norm\n",
    "import numpy as np\n",
    "import seaborn as sn\n",
    "import matplotlib.pyplot as plt\n",
    "import pandas as pd\n",
    "import statsmodels.stats.weightstats as ws\n",
    "from scipy.stats import ttest_1samp, ttest_ind, ttest_rel\n",
    "from scipy.stats import mannwhitneyu"
   ]
  },
  {
   "cell_type": "markdown",
   "metadata": {},
   "source": [
    "Testing a creation of a skewed dataset:"
   ]
  },
  {
   "cell_type": "code",
   "execution_count": 2,
   "metadata": {},
   "outputs": [
    {
     "data": {
      "image/png": "[encoded data removed]",
      "text/plain": [
       "<Figure size 640x480 with 1 Axes>"
      ]
     },
     "metadata": {},
     "output_type": "display_data"
    }
   ],
   "source": [
    "a = 4\n",
    "n = 50069\n",
    "x = np.linspace(skewnorm.ppf(0.01, a), skewnorm.ppf(0.99, a), 100)\n",
    "r = skewnorm.rvs(a, size=n)\n",
    "\n",
    "plt.hist(r, density=True, alpha=0.5, bins=20)\n",
    "plt.plot(x, skewnorm.pdf(x, a), 'k')\n",
    "plt.show()"
   ]
  },
  {
   "cell_type": "markdown",
   "metadata": {},
   "source": [
    "### Large sample sizes with data normally distributed: $z$-test"
   ]
  },
  {
   "cell_type": "markdown",
   "metadata": {},
   "source": [
    "Loading the correct dataset:"
   ]
  },
  {
   "cell_type": "code",
   "execution_count": 3,
   "metadata": {},
   "outputs": [],
   "source": [
    "data = pd.read_csv('data/high-school.csv')"
   ]
  },
  {
   "cell_type": "code",
   "execution_count": 4,
   "metadata": {},
   "outputs": [
    {
     "data": {
      "text/html": [
       "<div>\n",
       "<style scoped>\n",
       "    .dataframe tbody tr th:only-of-type {\n",
       "        vertical-align: middle;\n",
       "    }\n",
       "\n",
       "    .dataframe tbody tr th {\n",
       "        vertical-align: top;\n",
       "    }\n",
       "\n",
       "    .dataframe thead th {\n",
       "        text-align: right;\n",
       "    }\n",
       "</style>\n",
       "<table border=\"1\" class=\"dataframe\">\n",
       "  <thead>\n",
       "    <tr style=\"text-align: right;\">\n",
       "      <th></th>\n",
       "      <th>Nr</th>\n",
       "      <th>CLASS</th>\n",
       "      <th>GENDER</th>\n",
       "      <th>AGE</th>\n",
       "      <th>HEIGHT</th>\n",
       "      <th>SPORTS</th>\n",
       "      <th>TV</th>\n",
       "      <th>COMPUTER</th>\n",
       "      <th>SUBJECT</th>\n",
       "      <th>ALLOWANCE</th>\n",
       "      <th>WORK</th>\n",
       "      <th>PROVINCE</th>\n",
       "      <th>BREAKFAST</th>\n",
       "    </tr>\n",
       "  </thead>\n",
       "  <tbody>\n",
       "    <tr>\n",
       "      <th>0</th>\n",
       "      <td>0</td>\n",
       "      <td>1</td>\n",
       "      <td>Girl</td>\n",
       "      <td>12</td>\n",
       "      <td>160</td>\n",
       "      <td>1</td>\n",
       "      <td>4</td>\n",
       "      <td>6</td>\n",
       "      <td>Mathematics</td>\n",
       "      <td>5</td>\n",
       "      <td>0</td>\n",
       "      <td>23</td>\n",
       "      <td>Yes</td>\n",
       "    </tr>\n",
       "    <tr>\n",
       "      <th>1</th>\n",
       "      <td>1</td>\n",
       "      <td>1</td>\n",
       "      <td>Girl</td>\n",
       "      <td>11</td>\n",
       "      <td>162</td>\n",
       "      <td>3</td>\n",
       "      <td>4</td>\n",
       "      <td>4</td>\n",
       "      <td>Computer Science</td>\n",
       "      <td>3</td>\n",
       "      <td>0</td>\n",
       "      <td>23</td>\n",
       "      <td>Yes</td>\n",
       "    </tr>\n",
       "    <tr>\n",
       "      <th>2</th>\n",
       "      <td>2</td>\n",
       "      <td>1</td>\n",
       "      <td>Girl</td>\n",
       "      <td>12</td>\n",
       "      <td>168</td>\n",
       "      <td>1</td>\n",
       "      <td>20</td>\n",
       "      <td>5</td>\n",
       "      <td>Other</td>\n",
       "      <td>25</td>\n",
       "      <td>0</td>\n",
       "      <td>23</td>\n",
       "      <td>Yes</td>\n",
       "    </tr>\n",
       "    <tr>\n",
       "      <th>3</th>\n",
       "      <td>3</td>\n",
       "      <td>1</td>\n",
       "      <td>Boy</td>\n",
       "      <td>13</td>\n",
       "      <td>149</td>\n",
       "      <td>0</td>\n",
       "      <td>6</td>\n",
       "      <td>2</td>\n",
       "      <td>Mathematics</td>\n",
       "      <td>10</td>\n",
       "      <td>0</td>\n",
       "      <td>23</td>\n",
       "      <td>Brought something</td>\n",
       "    </tr>\n",
       "    <tr>\n",
       "      <th>4</th>\n",
       "      <td>4</td>\n",
       "      <td>1</td>\n",
       "      <td>Girl</td>\n",
       "      <td>12</td>\n",
       "      <td>170</td>\n",
       "      <td>3</td>\n",
       "      <td>30</td>\n",
       "      <td>1</td>\n",
       "      <td>Engineering</td>\n",
       "      <td>5</td>\n",
       "      <td>0</td>\n",
       "      <td>23</td>\n",
       "      <td>Yes</td>\n",
       "    </tr>\n",
       "  </tbody>\n",
       "</table>\n",
       "</div>"
      ],
      "text/plain": [
       "   Nr  CLASS GENDER  AGE  HEIGHT  SPORTS  TV  COMPUTER           SUBJECT  \\\n",
       "0   0      1   Girl   12     160       1   4         6       Mathematics   \n",
       "1   1      1   Girl   11     162       3   4         4  Computer Science   \n",
       "2   2      1   Girl   12     168       1  20         5             Other   \n",
       "3   3      1    Boy   13     149       0   6         2       Mathematics   \n",
       "4   4      1   Girl   12     170       3  30         1       Engineering   \n",
       "\n",
       "   ALLOWANCE  WORK  PROVINCE          BREAKFAST  \n",
       "0          5     0        23                Yes  \n",
       "1          3     0        23                Yes  \n",
       "2         25     0        23                Yes  \n",
       "3         10     0        23  Brought something  \n",
       "4          5     0        23                Yes  "
      ]
     },
     "execution_count": 4,
     "metadata": {},
     "output_type": "execute_result"
    }
   ],
   "source": [
    "data.head()"
   ]
  },
  {
   "cell_type": "code",
   "execution_count": 5,
   "metadata": {},
   "outputs": [
    {
     "data": {
      "text/plain": [
       "(50069, 13)"
      ]
     },
     "execution_count": 5,
     "metadata": {},
     "output_type": "execute_result"
    }
   ],
   "source": [
    "data.shape"
   ]
  },
  {
   "cell_type": "code",
   "execution_count": 6,
   "metadata": {},
   "outputs": [
    {
     "data": {
      "image/png": "[encoded data removed]",
      "text/plain": [
       "<Figure size 640x480 with 1 Axes>"
      ]
     },
     "metadata": {},
     "output_type": "display_data"
    }
   ],
   "source": [
    "sn.histplot(data=data, x='TV', bins=15, color='r')\n",
    "plt.show()"
   ]
  },
  {
   "cell_type": "markdown",
   "metadata": {},
   "source": [
    "**Hypotheses**:\n",
    "\n",
    "- Children spend in average less than 14 hours ($\\mu_0$) in front of TV ($H_0$)\n",
    "- Children spend much more than that ($H_a$)\n",
    "\n",
    "$$H_0: \\mu \\leq \\mu_0 = 14$$\n",
    "$$H_a: \\mu > 14$$\n",
    "\n",
    "With 95% C.L. ($\\alpha = 0.05$)"
   ]
  },
  {
   "cell_type": "code",
   "execution_count": 27,
   "metadata": {},
   "outputs": [],
   "source": [
    "mu0 = 14\n",
    "ybar = np.mean(data.TV)\n",
    "s = np.std(data.TV)\n",
    "m,n = data.shape\n",
    "tn = (ybar - mu0)/(s/np.sqrt(m))"
   ]
  },
  {
   "cell_type": "code",
   "execution_count": 28,
   "metadata": {},
   "outputs": [
    {
     "name": "stdout",
     "output_type": "stream",
     "text": [
      "14.229143781581417 10.43568654970455 4.913279934644519\n"
     ]
    }
   ],
   "source": [
    "print(ybar, s, tn)"
   ]
  },
  {
   "cell_type": "code",
   "execution_count": 29,
   "metadata": {},
   "outputs": [
    {
     "data": {
      "text/plain": [
       "1.6448536269514722"
      ]
     },
     "execution_count": 29,
     "metadata": {},
     "output_type": "execute_result"
    }
   ],
   "source": [
    "# alpha = 0.05 (significance)\n",
    "CL = 0.95 # or 1 - alpha\n",
    "alpha = 0.05\n",
    "z_critic = norm.ppf(1 - alpha, loc=0, scale=1)\n",
    "z_critic"
   ]
  },
  {
   "cell_type": "code",
   "execution_count": 30,
   "metadata": {},
   "outputs": [
    {
     "name": "stdout",
     "output_type": "stream",
     "text": [
      "1.6448536269514722 4.913279934644519\n"
     ]
    },
    {
     "data": {
      "text/plain": [
       "True"
      ]
     },
     "execution_count": 30,
     "metadata": {},
     "output_type": "execute_result"
    }
   ],
   "source": [
    "print(z_critic, tn)\n",
    "tn > z_critic"
   ]
  },
  {
   "cell_type": "markdown",
   "metadata": {},
   "source": [
    "Since the $z$ from the test is substantially larger tha $z$-critic, the null hypothesis $H_0$ is rejected, which means that we can infer that children spend more than 14 hours per week with 95% C.L."
   ]
  },
  {
   "cell_type": "markdown",
   "metadata": {},
   "source": [
    "The above calculations can be done using `statsmodels` library:"
   ]
  },
  {
   "cell_type": "code",
   "execution_count": 31,
   "metadata": {},
   "outputs": [
    {
     "name": "stdout",
     "output_type": "stream",
     "text": [
      "4.913230869310007 4.4793839738613927e-07\n"
     ]
    }
   ],
   "source": [
    "z_test, p_value = ws.ztest(data.TV, value=mu0, alternative='larger')\n",
    "print(z_test, p_value)"
   ]
  },
  {
   "cell_type": "markdown",
   "metadata": {},
   "source": [
    "For the **two sided** case the hypotheses should be reformulated:\n",
    "\n",
    "**Hypotheses**:\n",
    "\n",
    "- Children spend in average 14 hours ($\\mu_0$) in front of TV ($H_0$)\n",
    "- Children do not spend 14 hours ($H_a$)\n",
    "\n",
    "$$H_0: \\mu = 14$$\n",
    "$$H_a: \\mu \\neq 14$$\n",
    "\n",
    "With 95% C.L. ($\\alpha = 0.05$)"
   ]
  },
  {
   "cell_type": "code",
   "execution_count": 34,
   "metadata": {},
   "outputs": [
    {
     "name": "stdout",
     "output_type": "stream",
     "text": [
      "-1.959963984540054 1.959963984540054 4.913230869310007 8.958767947722785e-07\n",
      "True\n"
     ]
    }
   ],
   "source": [
    "# two-sided test\n",
    "z_test, p_value = ws.ztest(data.TV, value=mu0, alternative='two-sided')\n",
    "\n",
    "# alpha = 0.05 (significance)\n",
    "alpha = 0.05\n",
    "z_critic_high = norm.ppf(1 - alpha/2, loc=0, scale=1)\n",
    "z_critic_low = -z_critic_high\n",
    "\n",
    "print(z_critic_low, z_critic_high, z_test, p_value)\n",
    "print(z_test < z_critic_low or z_test > z_critic_high)"
   ]
  },
  {
   "cell_type": "markdown",
   "metadata": {},
   "source": [
    "Since the $z$ value from the test does not lie into the two $z$-critic, the null hypothesis $H_0$ is rejected."
   ]
  },
  {
   "cell_type": "markdown",
   "metadata": {},
   "source": [
    "It is important to emphasize that for the results above the sample size should be asymptotically large to results be precise. **In any case, $z$-test should bbe avoided, and the $t$-test described as follows should be used, since it works well for any sample size**."
   ]
  },
  {
   "cell_type": "markdown",
   "metadata": {},
   "source": [
    "### Hypothesis testing for normally distributed data: **$t$-test**"
   ]
  },
  {
   "cell_type": "markdown",
   "metadata": {},
   "source": [
    "**Independent samples:**"
   ]
  },
  {
   "cell_type": "markdown",
   "metadata": {},
   "source": [
    "Firstly, we generate two independent samples:"
   ]
  },
  {
   "cell_type": "code",
   "execution_count": 65,
   "metadata": {},
   "outputs": [],
   "source": [
    "np.random.seed(21349)\n",
    "\n",
    "x = np.random.normal(loc=5, scale=1, size=20)\n",
    "y = np.random.normal(loc=3, scale=3, size=20)"
   ]
  },
  {
   "cell_type": "markdown",
   "metadata": {},
   "source": [
    "Now we use a t-test to check if the $x$ sample is equal to zero (null hypothesis):"
   ]
  },
  {
   "cell_type": "code",
   "execution_count": 66,
   "metadata": {},
   "outputs": [
    {
     "name": "stdout",
     "output_type": "stream",
     "text": [
      "t-value: 20.78956805811129  p-value: 1.573567278371082e-14 df: 19\n"
     ]
    }
   ],
   "source": [
    "ttest = ttest_1samp(x, 0)\n",
    "t_value, p_value, df = ttest.statistic, ttest.pvalue, ttest.df\n",
    "\n",
    "print('t-value:', t_value, ' p-value:', p_value, 'df:', df)"
   ]
  },
  {
   "cell_type": "markdown",
   "metadata": {},
   "source": [
    "We rejected the null hypothesis."
   ]
  },
  {
   "cell_type": "markdown",
   "metadata": {},
   "source": [
    "**Paired samples:**"
   ]
  },
  {
   "cell_type": "markdown",
   "metadata": {},
   "source": [
    "In this second situation we consider the case of two samples, and the null hypothesis is wether the mean of $x$ is equal to the mean of $y$, or $\\mu_x = \\mu_y$:"
   ]
  },
  {
   "cell_type": "code",
   "execution_count": 67,
   "metadata": {},
   "outputs": [
    {
     "name": "stdout",
     "output_type": "stream",
     "text": [
      "Mean of x: 4.7, Mean of y: 3.1\n",
      "t-value: 2.3206560204298796  p-value: 0.02925081002538167 df: 23.67631591930545\n",
      "Actual df: n1 + n2 - 2 = 38\n"
     ]
    }
   ],
   "source": [
    "ttest = ttest_ind(x, y, equal_var=False)\n",
    "\n",
    "print('Mean of x: %.1f, Mean of y: %.1f'%(np.mean(x), np.mean(y)))\n",
    "\n",
    "t_value, p_value, df = ttest.statistic, ttest.pvalue, ttest.df\n",
    "\n",
    "print('t-value:', t_value, ' p-value:', p_value, 'df:', df)\n",
    "print('Actual df: n1 + n2 - 2 =', len(x) + len(y) - 2)"
   ]
  },
  {
   "cell_type": "markdown",
   "metadata": {},
   "source": [
    "The null hypothesis is also rejected with 95% C.L."
   ]
  },
  {
   "cell_type": "markdown",
   "metadata": {},
   "source": [
    "The above cases provided t-tests of independent samples. In the case of paired samples we need the paired t-test:"
   ]
  },
  {
   "cell_type": "code",
   "execution_count": 68,
   "metadata": {},
   "outputs": [
    {
     "name": "stdout",
     "output_type": "stream",
     "text": [
      "t-value: -4.0877419625954525  p-value: 0.0006270545631179227 df: 19\n"
     ]
    }
   ],
   "source": [
    "np.random.seed(21349)\n",
    "\n",
    "z = np.random.normal(loc=3, scale=5, size=20)\n",
    "e1 = np.random.normal(loc=0, scale=1, size=20)\n",
    "e2 = np.random.normal(loc=0, scale=1, size=20)\n",
    "\n",
    "x1 = z + e1\n",
    "x2 = z + e2 + 1\n",
    "\n",
    "ttest = ttest_rel(x1, x2, alternative='two-sided')\n",
    "\n",
    "t_value, p_value, df = ttest.statistic, ttest.pvalue, ttest.df\n",
    "\n",
    "print('t-value:', t_value, ' p-value:', p_value, 'df:', df)"
   ]
  },
  {
   "cell_type": "markdown",
   "metadata": {},
   "source": [
    "We rejected the null hypothesis of paired samples having equal mean."
   ]
  },
  {
   "cell_type": "markdown",
   "metadata": {},
   "source": [
    "### Hypothesis testing for data that does not follow a normal distribution"
   ]
  },
  {
   "cell_type": "markdown",
   "metadata": {},
   "source": [
    "**Independent samples:** Mann-Whitney U test"
   ]
  },
  {
   "cell_type": "code",
   "execution_count": 76,
   "metadata": {},
   "outputs": [
    {
     "name": "stdout",
     "output_type": "stream",
     "text": [
      "t-value: 281.0  p-value: 0.02944088441208284\n"
     ]
    }
   ],
   "source": [
    "mann_whitney = mannwhitneyu(x, y, alternative='two-sided')\n",
    "\n",
    "U_value, p_value = mann_whitney.statistic, mann_whitney.pvalue\n",
    "\n",
    "print('t-value:', U_value, ' p-value:', p_value)"
   ]
  },
  {
   "cell_type": "markdown",
   "metadata": {},
   "source": [
    "**Paired samples:**"
   ]
  }
 ],
 "metadata": {
  "kernelspec": {
   "display_name": "Python 3",
   "language": "python",
   "name": "python3"
  },
  "language_info": {
   "codemirror_mode": {
    "name": "ipython",
    "version": 3
   },
   "file_extension": ".py",
   "mimetype": "text/x-python",
   "name": "python",
   "nbconvert_exporter": "python",
   "pygments_lexer": "ipython3",
   "version": "3.10.12"
  }
 },
 "nbformat": 4,
 "nbformat_minor": 2
}
