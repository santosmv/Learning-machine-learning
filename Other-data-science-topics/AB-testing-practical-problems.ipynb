{
 "cells": [
  {
   "cell_type": "code",
   "execution_count": 2,
   "metadata": {},
   "outputs": [],
   "source": [
    "import pandas as pd\n",
    "import numpy as np\n",
    "import seaborn as sb\n",
    "import matplotlib.pyplot as plt\n",
    "from scipy.stats import t\n",
    "import statsmodels.stats.api as sm\n",
    "from statsmodels.stats.proportion import proportions_ztest, proportion_confint"
   ]
  },
  {
   "cell_type": "markdown",
   "metadata": {},
   "source": [
    "## Table of Contents\n",
    "\n",
    "- [Exploring the Barcelona accidents statistics](#exploring-the-barcelona-accidents-statistics)\n",
    "  - [Confidence Interval Method](#confidence-interval)\n",
    "  - [Hypothesis testing or ab testing for Barcelona accidents with p-value (bootstrap)](#hypothesis-testing-or-ab-testing-for-barcelona-accidents-with-p-value-bootstrap)\n",
    "- [A/B testing for website variations](#ab-testing-for-website-variations)"
   ]
  },
  {
   "cell_type": "markdown",
   "metadata": {},
   "source": [
    "## Exploring the Barcelona accidents statistics"
   ]
  },
  {
   "cell_type": "code",
   "execution_count": 2,
   "metadata": {},
   "outputs": [
    {
     "data": {
      "text/html": [
       "<div>\n",
       "<style scoped>\n",
       "    .dataframe tbody tr th:only-of-type {\n",
       "        vertical-align: middle;\n",
       "    }\n",
       "\n",
       "    .dataframe tbody tr th {\n",
       "        vertical-align: top;\n",
       "    }\n",
       "\n",
       "    .dataframe thead th {\n",
       "        text-align: right;\n",
       "    }\n",
       "</style>\n",
       "<table border=\"1\" class=\"dataframe\">\n",
       "  <thead>\n",
       "    <tr style=\"text-align: right;\">\n",
       "      <th></th>\n",
       "      <th>N�mero d'expedient</th>\n",
       "      <th>Codi districte</th>\n",
       "      <th>Nom districte</th>\n",
       "      <th>NK barri</th>\n",
       "      <th>Nom barri</th>\n",
       "      <th>Codi carrer</th>\n",
       "      <th>Nom carrer</th>\n",
       "      <th>Num postal caption</th>\n",
       "      <th>Descripci� dia setmana</th>\n",
       "      <th>Dia de setmana</th>\n",
       "      <th>...</th>\n",
       "      <th>Hora de dia</th>\n",
       "      <th>Descripci� torn</th>\n",
       "      <th>Descripci� causa vianant</th>\n",
       "      <th>N�mero de morts</th>\n",
       "      <th>N�mero de lesionats lleus</th>\n",
       "      <th>N�mero de lesionats greus</th>\n",
       "      <th>N�mero de v�ctimes</th>\n",
       "      <th>N�mero de vehicles implicats</th>\n",
       "      <th>Coordenada UTM (Y)</th>\n",
       "      <th>Coordenada UTM (X)</th>\n",
       "    </tr>\n",
       "  </thead>\n",
       "  <tbody>\n",
       "    <tr>\n",
       "      <th>0</th>\n",
       "      <td>2013S007360</td>\n",
       "      <td>-1</td>\n",
       "      <td>Desconegut</td>\n",
       "      <td>-1--1--1</td>\n",
       "      <td>Desconegut</td>\n",
       "      <td>-1</td>\n",
       "      <td>Desconegut</td>\n",
       "      <td>Desconegut</td>\n",
       "      <td>Dimecres</td>\n",
       "      <td>3</td>\n",
       "      <td>...</td>\n",
       "      <td>21</td>\n",
       "      <td>Tarda</td>\n",
       "      <td>Desconegut</td>\n",
       "      <td>0</td>\n",
       "      <td>1</td>\n",
       "      <td>0</td>\n",
       "      <td>1</td>\n",
       "      <td>2</td>\n",
       "      <td>-1</td>\n",
       "      <td>-1</td>\n",
       "    </tr>\n",
       "  </tbody>\n",
       "</table>\n",
       "<p>1 rows × 25 columns</p>\n",
       "</div>"
      ],
      "text/plain": [
       "  N�mero d'expedient  Codi districte Nom districte  NK barri   Nom barri  \\\n",
       "0        2013S007360              -1    Desconegut  -1--1--1  Desconegut   \n",
       "\n",
       "   Codi carrer  Nom carrer Num postal caption Descripci� dia setmana  \\\n",
       "0           -1  Desconegut         Desconegut               Dimecres   \n",
       "\n",
       "   Dia de setmana  ... Hora de dia  Descripci� torn  Descripci� causa vianant  \\\n",
       "0               3  ...          21            Tarda                Desconegut   \n",
       "\n",
       "  N�mero de morts  N�mero de lesionats lleus  N�mero de lesionats greus  \\\n",
       "0               0                          1                          0   \n",
       "\n",
       "  N�mero de v�ctimes N�mero de vehicles implicats  Coordenada UTM (Y)  \\\n",
       "0                  1                            2                  -1   \n",
       "\n",
       "   Coordenada UTM (X)  \n",
       "0                  -1  \n",
       "\n",
       "[1 rows x 25 columns]"
      ]
     },
     "execution_count": 2,
     "metadata": {},
     "output_type": "execute_result"
    }
   ],
   "source": [
    "data = pd.read_csv(u'datasets/barcelona/2013_ACCIDENTS_GU_BCN_2013.csv')\n",
    "data.head(1)"
   ]
  },
  {
   "cell_type": "code",
   "execution_count": 3,
   "metadata": {},
   "outputs": [
    {
     "data": {
      "text/plain": [
       "(9457, 25)"
      ]
     },
     "execution_count": 3,
     "metadata": {},
     "output_type": "execute_result"
    }
   ],
   "source": [
    "data.shape"
   ]
  },
  {
   "cell_type": "code",
   "execution_count": 14,
   "metadata": {},
   "outputs": [],
   "source": [
    "data['Date'] = data[u'Dia de mes'].apply(lambda x: str(x)) + '-' + data[u'Mes de any'].apply(lambda x: str(x)) + '-2013'"
   ]
  },
  {
   "cell_type": "code",
   "execution_count": 15,
   "metadata": {},
   "outputs": [],
   "source": [
    "data['Date'] = pd.to_datetime(data['Date'], format='%d-%m-%Y')"
   ]
  },
  {
   "cell_type": "code",
   "execution_count": 6,
   "metadata": {},
   "outputs": [
    {
     "data": {
      "text/plain": [
       "0   2013-10-16\n",
       "1   2013-10-29\n",
       "2   2013-07-23\n",
       "3   2013-02-26\n",
       "4   2013-11-18\n",
       "Name: Date, dtype: datetime64[ns]"
      ]
     },
     "execution_count": 6,
     "metadata": {},
     "output_type": "execute_result"
    }
   ],
   "source": [
    "data['Date'].head()"
   ]
  },
  {
   "cell_type": "code",
   "execution_count": 7,
   "metadata": {},
   "outputs": [
    {
     "data": {
      "text/plain": [
       "Date\n",
       "2013-01-01    16\n",
       "2013-01-02    18\n",
       "2013-01-03    17\n",
       "2013-01-04    29\n",
       "2013-01-05    17\n",
       "dtype: int64"
      ]
     },
     "execution_count": 7,
     "metadata": {},
     "output_type": "execute_result"
    }
   ],
   "source": [
    "accidents_2013 = data.groupby(['Date']).size()\n",
    "accidents_2013.head()"
   ]
  },
  {
   "cell_type": "code",
   "execution_count": 8,
   "metadata": {},
   "outputs": [
    {
     "data": {
      "text/plain": [
       "array([16, 18, 17, 29, 17, 13, 34, 28, 31, 31], dtype=int64)"
      ]
     },
     "execution_count": 8,
     "metadata": {},
     "output_type": "execute_result"
    }
   ],
   "source": [
    "accidents_2013.to_numpy()[:10]"
   ]
  },
  {
   "cell_type": "code",
   "execution_count": 9,
   "metadata": {},
   "outputs": [
    {
     "data": {
      "text/plain": [
       "25.9096"
      ]
     },
     "execution_count": 9,
     "metadata": {},
     "output_type": "execute_result"
    }
   ],
   "source": [
    "round(accidents_2013.mean(), 4)"
   ]
  },
  {
   "cell_type": "markdown",
   "metadata": {},
   "source": [
    "Mean distribution:"
   ]
  },
  {
   "cell_type": "code",
   "execution_count": 10,
   "metadata": {},
   "outputs": [
    {
     "data": {
      "image/png": "[encoded data removed]",
      "text/plain": [
       "<Figure size 640x480 with 1 Axes>"
      ]
     },
     "metadata": {},
     "output_type": "display_data"
    }
   ],
   "source": [
    "mean_list = []\n",
    "accidents_array = data.groupby(['Date']).size().to_numpy()\n",
    "for i in range(20000):\n",
    "    sample = np.random.choice(accidents_array, 200)\n",
    "    mean_list.append(sample.mean())\n",
    "\n",
    "mu = np.mean(mean_list)\n",
    "ax = sb.histplot(data=mean_list, kde=True)\n",
    "ax.lines[0].set_color('k')\n",
    "ax.axvline(mu, color='r', ls='--')\n",
    "ax.set_xlabel('Mean')\n",
    "ax.text(24, 500, s=r'$\\mu$ = %.4f'%mu)\n",
    "plt.show()"
   ]
  },
  {
   "cell_type": "code",
   "execution_count": 11,
   "metadata": {},
   "outputs": [
    {
     "name": "stdout",
     "output_type": "stream",
     "text": [
      "Standard Error (SE) of 1 Mean Distribution: 0.6619\n",
      "Standard Error (SE) of 20k Mean Distributions: 0.0455\n"
     ]
    }
   ],
   "source": [
    "n = 200\n",
    "sample = np.random.choice(accidents_2013, n)\n",
    "SE_1 = sample.std()/np.sqrt(n)\n",
    "SE_20k = np.std(mean_list)/np.sqrt(n)\n",
    "print('Standard Error (SE) of 1 Mean Distribution:', round(SE_1, 4))\n",
    "print('Standard Error (SE) of 20k Mean Distributions:', round(SE_20k, 4))"
   ]
  },
  {
   "cell_type": "markdown",
   "metadata": {},
   "source": [
    "##### Confidence Interval:"
   ]
  },
  {
   "cell_type": "code",
   "execution_count": 12,
   "metadata": {},
   "outputs": [
    {
     "name": "stdout",
     "output_type": "stream",
     "text": [
      "Confidence Interval (99% C.L.) for one mean sample: 25.5228 - 28.6272\n",
      "Confidence Interval (99% C.L.) for 20k samples: 25.8020 - 26.0156\n"
     ]
    }
   ],
   "source": [
    "t_value = t(df=200).ppf(0.99)\n",
    "print('Confidence Interval (99%% C.L.) for one mean sample: %.4f - %.4f'%(np.mean(sample) - t_value * SE_1, np.mean(sample) + t_value * SE_1))\n",
    "print('Confidence Interval (99%% C.L.) for 20k samples: %.4f - %.4f'%(np.mean(mean_list) - t_value * SE_20k, np.mean(mean_list) + t_value * SE_20k))"
   ]
  },
  {
   "cell_type": "markdown",
   "metadata": {},
   "source": [
    "##### Hypothesis Testing or A/B testing for Barcelona accidents with p-value (bootstrap):"
   ]
  },
  {
   "cell_type": "code",
   "execution_count": 13,
   "metadata": {},
   "outputs": [],
   "source": [
    "data_2010 = pd.read_csv('datasets/barcelona/2010_ACCIDENTS_GU_BCN_2010.csv', encoding='latin-1')"
   ]
  },
  {
   "cell_type": "code",
   "execution_count": 14,
   "metadata": {},
   "outputs": [
    {
     "data": {
      "text/plain": [
       "Date\n",
       "2013-01-01     7\n",
       "2013-01-02    14\n",
       "2013-01-03    15\n",
       "2013-01-04    23\n",
       "2013-01-05    31\n",
       "dtype: int64"
      ]
     },
     "execution_count": 14,
     "metadata": {},
     "output_type": "execute_result"
    }
   ],
   "source": [
    "data_2010['Date'] = data_2010[u'Dia de mes'].apply(lambda x: str(x)) + '-' + data_2010[u'Mes de any'].apply(lambda x: str(x)) + '-2013'\n",
    "data_2010['Date'] = pd.to_datetime(data_2010['Date'], format='%d-%m-%Y')\n",
    "accidents_2010 = data_2010.groupby(['Date']).size()\n",
    "accidents_2010.head()"
   ]
  },
  {
   "cell_type": "code",
   "execution_count": 15,
   "metadata": {},
   "outputs": [
    {
     "name": "stdout",
     "output_type": "stream",
     "text": [
      "25.90958904109589 24.81095890410959\n"
     ]
    }
   ],
   "source": [
    "print(accidents_2013.mean(), accidents_2010.mean())"
   ]
  },
  {
   "cell_type": "code",
   "execution_count": 16,
   "metadata": {},
   "outputs": [
    {
     "name": "stdout",
     "output_type": "stream",
     "text": [
      "Confidence Interval (95% C.L.) for 2013: 24.9752 - 26.8440\n"
     ]
    }
   ],
   "source": [
    "t_value = t(df=200).ppf(0.95)\n",
    "t_value = 1.96\n",
    "\n",
    "m_2013 = len(data['Date'].value_counts())\n",
    "\n",
    "mean_2013 = accidents_2013.mean()\n",
    "SE_2013 = accidents_2013.std()/np.sqrt(m_2013)\n",
    "\n",
    "print('Confidence Interval (95%% C.L.) for 2013: %.4f - %.4f'%(mean_2013 - t_value * SE_2013, mean_2013 + t_value * SE_2013))"
   ]
  },
  {
   "cell_type": "code",
   "execution_count": 17,
   "metadata": {},
   "outputs": [
    {
     "name": "stdout",
     "output_type": "stream",
     "text": [
      "mu(2013) - mu(2010) = 1.0986\n"
     ]
    }
   ],
   "source": [
    "print('mu(2013) - mu(2010) = %.4f'%(accidents_2013.mean() - accidents_2010.mean()))\n",
    "mu_2013, mu_2010 = accidents_2013.mean(), accidents_2010.mean()\n",
    "delta = mu_2013 - mu_2010"
   ]
  },
  {
   "cell_type": "code",
   "execution_count": 18,
   "metadata": {},
   "outputs": [
    {
     "name": "stdout",
     "output_type": "stream",
     "text": [
      "p-value = 0.046595\n"
     ]
    }
   ],
   "source": [
    "j = 0\n",
    "N = 200000\n",
    "n = accidents_2010.shape[0]\n",
    "accidents = np.concatenate([accidents_2010, accidents_2013])\n",
    "np.random.shuffle(accidents)\n",
    "\n",
    "for i in range(N):\n",
    "    sample1 = np.random.choice(accidents, n)\n",
    "    sample2 = np.random.choice(accidents, n)\n",
    "    mu1 = np.mean(sample1)\n",
    "    mu2 = np.mean(sample2)\n",
    "    delta_sample = mu1 - mu2\n",
    "    \n",
    "    if delta_sample > delta:\n",
    "        j += 1\n",
    "\n",
    "p = j/N\n",
    "\n",
    "print('p-value =', p)"
   ]
  },
  {
   "cell_type": "code",
   "execution_count": 19,
   "metadata": {},
   "outputs": [
    {
     "data": {
      "text/plain": [
       "Ttest_1sampResult(statistic=-1.9904557922915085, pvalue=0.04790935451637587)"
      ]
     },
     "execution_count": 19,
     "metadata": {},
     "output_type": "execute_result"
    }
   ],
   "source": [
    "from scipy.stats import ttest_1samp\n",
    "ttest_1samp(np.random.choice(accidents, 200), accidents.mean())"
   ]
  },
  {
   "cell_type": "markdown",
   "metadata": {},
   "source": [
    "## A/B testing for website variations:"
   ]
  },
  {
   "cell_type": "markdown",
   "metadata": {},
   "source": [
    "- We state the null hypothesis $H_0$ as: there is no significant difference between the changes of a landing web page.\n",
    "- The alternative hypothesis $H_A$ can be denoted as the scenario where a significant difference in conversion happened. We set a 1% increase of conversion with the changes (from 20% to 21%).\n",
    "\n",
    "We set the significance to $\\alpha = 0.05$."
   ]
  },
  {
   "cell_type": "code",
   "execution_count": 3,
   "metadata": {},
   "outputs": [
    {
     "data": {
      "text/plain": [
       "(294478, 5)"
      ]
     },
     "execution_count": 3,
     "metadata": {},
     "output_type": "execute_result"
    }
   ],
   "source": [
    "ab_data = pd.read_csv('datasets/AB/ab_data.csv')\n",
    "ab_data.shape"
   ]
  },
  {
   "cell_type": "code",
   "execution_count": 21,
   "metadata": {},
   "outputs": [
    {
     "name": "stdout",
     "output_type": "stream",
     "text": [
      "0.12047759085568362\n",
      "0.11884079625642663\n"
     ]
    }
   ],
   "source": [
    "ab_lc = ab_data[['landing_page', 'converted']]\n",
    "print(ab_lc[ab_data['landing_page'] == 'old_page']['converted'].sum() / len(ab_lc[ab_data['landing_page'] == 'old_page']['converted']))\n",
    "print(ab_lc[ab_data['landing_page'] == 'new_page']['converted'].sum() / len(ab_lc[ab_data['landing_page'] == 'new_page']['converted']))"
   ]
  },
  {
   "cell_type": "markdown",
   "metadata": {},
   "source": [
    "Firstly we use a **single sample** instead the whole dataset. To calculate sample size we use the **Power of the test** to the conventional $1 - \\beta = 0.8$."
   ]
  },
  {
   "cell_type": "code",
   "execution_count": 22,
   "metadata": {},
   "outputs": [
    {
     "name": "stdout",
     "output_type": "stream",
     "text": [
      "25580\n"
     ]
    }
   ],
   "source": [
    "effect_size = sm.proportion_effectsize(0.2, 0.21)\n",
    "\n",
    "required_n = sm.NormalIndPower().solve_power(\n",
    "    effect_size,\n",
    "    power=0.8,\n",
    "    alpha=0.05,\n",
    "    ratio=1\n",
    "    )\n",
    "\n",
    "required_n = int(np.ceil(required_n))\n",
    "\n",
    "print(required_n)"
   ]
  },
  {
   "cell_type": "code",
   "execution_count": 33,
   "metadata": {},
   "outputs": [
    {
     "name": "stdout",
     "output_type": "stream",
     "text": [
      "0.0693865692764042\n",
      "(0.1197527043948647, 0.11458696072236288) (0.12782390598662371, 0.12251031797641723)\n"
     ]
    }
   ],
   "source": [
    "control_sample = ab_data[ab_data['landing_page'] == 'old_page'].sample(required_n, random_state=22)\n",
    "treatment_sample = ab_data[ab_data['landing_page'] == 'new_page'].sample(required_n, random_state=22)\n",
    "\n",
    "ab_test = pd.concat([control_sample, treatment_sample], axis=0)\n",
    "ab_test.reset_index(drop=True, inplace=True)\n",
    "\n",
    "control_results = ab_test[ab_test['group'] == 'control']['converted']\n",
    "treatment_results = ab_test[ab_test['group'] == 'treatment']['converted']\n",
    "\n",
    "successes = [control_results.sum(), treatment_results.sum()]\n",
    "nobs = [control_results.count(), treatment_results.count()]\n",
    "\n",
    "z_stat, pvalue = proportions_ztest(successes, nobs=nobs)\n",
    "(lower_control, lower_treat), (upper_control, upper_treat) = proportion_confint(successes, nobs=nobs, alpha=0.05)\n",
    "\n",
    "print(pvalue)\n",
    "print((lower_control, lower_treat), (upper_control, upper_treat))"
   ]
  }
 ],
 "metadata": {
  "kernelspec": {
   "display_name": "Python 3",
   "language": "python",
   "name": "python3"
  },
  "language_info": {
   "codemirror_mode": {
    "name": "ipython",
    "version": 3
   },
   "file_extension": ".py",
   "mimetype": "text/x-python",
   "name": "python",
   "nbconvert_exporter": "python",
   "pygments_lexer": "ipython3",
   "version": "3.8.5"
  }
 },
 "nbformat": 4,
 "nbformat_minor": 2
}
