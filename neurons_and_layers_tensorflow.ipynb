{
 "cells": [
  {
   "cell_type": "code",
   "execution_count": 3,
   "metadata": {},
   "outputs": [],
   "source": [
    "import numpy as np\n",
    "import tensorflow as tf\n",
    "from tensorflow.keras import Sequential"
   ]
  },
  {
   "attachments": {},
   "cell_type": "markdown",
   "metadata": {},
   "source": [
    "Testing a linear activation function:"
   ]
  },
  {
   "cell_type": "code",
   "execution_count": 69,
   "metadata": {},
   "outputs": [
    {
     "name": "stdout",
     "output_type": "stream",
     "text": [
      "X_train=\n",
      " [[1]\n",
      " [2]] \n",
      "Y_train=\n",
      " [[100]\n",
      " [200]]\n",
      "\n",
      "a1= tf.Tensor(\n",
      "[[-0.6496012]\n",
      " [-1.2992024]], shape=(2, 1), dtype=float32)\n",
      "\n",
      "Y_train[0,0]/Y_train[1,0]: 0.5\n",
      "The ratio of predictions: tf.Tensor(0.5, shape=(), dtype=float32)\n",
      "\n",
      "w = [[-0.6496012]]\n",
      "b = [0.]\n"
     ]
    }
   ],
   "source": [
    "linear_layer = tf.keras.layers.Dense(units=1, activation='linear', )\n",
    "\n",
    "X_train = np.array([[1,2]]).T\n",
    "Y_train = np.array([[100,200]]).T\n",
    "\n",
    "print('X_train=\\n', X_train, '\\nY_train=\\n', Y_train)\n",
    "\n",
    "a1 = linear_layer(X_train)\n",
    "print('\\na1=',a1)\n",
    "\n",
    "print('\\nY_train[0,0]/Y_train[1,0]:',Y_train[0,0]/Y_train[1,0])\n",
    "print('The ratio of predictions:', a1[0,0]/a1[1,0])\n",
    "\n",
    "w,b = linear_layer.get_weights()\n",
    "print('\\nw = {}'.format(w))\n",
    "print('b = {}'.format(b))"
   ]
  },
  {
   "attachments": {},
   "cell_type": "markdown",
   "metadata": {},
   "source": [
    "Testing a logistic activation function:"
   ]
  },
  {
   "cell_type": "code",
   "execution_count": 2,
   "metadata": {},
   "outputs": [
    {
     "name": "stdout",
     "output_type": "stream",
     "text": [
      "[4 5 6]\n",
      "[1 2 3]\n"
     ]
    }
   ],
   "source": [
    "X_train = np.array([[1,2,3,4,5,6]]).T\n",
    "Y_train = np.array([[0,0,0,1,1,1]]).reshape(-1,1)\n",
    "\n",
    "pos = Y_train == 1\n",
    "neg = Y_train == 0\n",
    "\n",
    "print(X_train[pos])\n",
    "print(X_train[neg])"
   ]
  },
  {
   "cell_type": "code",
   "execution_count": 6,
   "metadata": {},
   "outputs": [],
   "source": [
    "model = Sequential([tf.keras.layers.Dense(1, input_dim=1, activation='sigmoid', name='L1')])"
   ]
  },
  {
   "cell_type": "code",
   "execution_count": 7,
   "metadata": {},
   "outputs": [
    {
     "name": "stdout",
     "output_type": "stream",
     "text": [
      "Model: \"sequential\"\n",
      "_________________________________________________________________\n",
      " Layer (type)                Output Shape              Param #   \n",
      "=================================================================\n",
      " L1 (Dense)                  (None, 1)                 2         \n",
      "                                                                 \n",
      "=================================================================\n",
      "Total params: 2\n",
      "Trainable params: 2\n",
      "Non-trainable params: 0\n",
      "_________________________________________________________________\n"
     ]
    }
   ],
   "source": [
    "model.summary()"
   ]
  },
  {
   "attachments": {},
   "cell_type": "markdown",
   "metadata": {},
   "source": [
    "With guess of parameters:"
   ]
  },
  {
   "cell_type": "code",
   "execution_count": 24,
   "metadata": {},
   "outputs": [
    {
     "name": "stdout",
     "output_type": "stream",
     "text": [
      "\n",
      "w = [[0.6]]\n",
      "b = [0.]\n"
     ]
    }
   ],
   "source": [
    "set_w = np.array([[0.6]])\n",
    "set_b = np.array([0])\n",
    "\n",
    "logistic_layer = model.get_layer('L1')\n",
    "logistic_layer.set_weights([set_w, set_b])\n",
    "w,b = logistic_layer.get_weights()\n",
    "print('\\nw = {}'.format(w))\n",
    "print('b = {}'.format(b))"
   ]
  },
  {
   "cell_type": "code",
   "execution_count": 25,
   "metadata": {},
   "outputs": [
    {
     "name": "stdout",
     "output_type": "stream",
     "text": [
      "1/1 [==============================] - 0s 60ms/step\n",
      "[[0.64565635]\n",
      " [0.76852477]\n",
      " [0.85814893]\n",
      " [0.9168273 ]\n",
      " [0.95257413]\n",
      " [0.97340304]]\n"
     ]
    }
   ],
   "source": [
    "a1 = model.predict(X_train)\n",
    "print(a1)"
   ]
  }
 ],
 "metadata": {
  "kernelspec": {
   "display_name": "Python 3",
   "language": "python",
   "name": "python3"
  },
  "language_info": {
   "codemirror_mode": {
    "name": "ipython",
    "version": 3
   },
   "file_extension": ".py",
   "mimetype": "text/x-python",
   "name": "python",
   "nbconvert_exporter": "python",
   "pygments_lexer": "ipython3",
   "version": "3.8.5"
  },
  "orig_nbformat": 4,
  "vscode": {
   "interpreter": {
    "hash": "037335531d7621c1b1b0f2b1596a260ebe03ba48a827428118e6a4217105d671"
   }
  }
 },
 "nbformat": 4,
 "nbformat_minor": 2
}
