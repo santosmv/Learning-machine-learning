{
 "cells": [
  {
   "cell_type": "code",
   "execution_count": 1,
   "metadata": {},
   "outputs": [],
   "source": [
    "import tensorflow as tf\n",
    "from tensorflow import keras\n",
    "from tensorflow.keras.preprocessing.text import Tokenizer\n",
    "from tensorflow.keras.preprocessing.sequence import pad_sequences\n",
    "import json\n",
    "import numpy as np\n",
    "import matplotlib.pyplot as plt\n",
    "\n",
    "plt.rc('text', usetex=True)\n",
    "plt.rc('font', family='serif')"
   ]
  },
  {
   "cell_type": "code",
   "execution_count": 10,
   "metadata": {},
   "outputs": [
    {
     "name": "stdout",
     "output_type": "stream",
     "text": [
      "{'<OOV>': 1, 'my': 2, 'love': 3, 'dog': 4, 'i': 5, 'you': 6, 'cat': 7, 'do': 8, 'think': 9, 'is': 10, 'amazing': 11}\n",
      "[[5, 3, 2, 4], [5, 3, 2, 7], [6, 3, 2, 4], [8, 6, 9, 2, 4, 10, 11]]\n"
     ]
    }
   ],
   "source": [
    "sentences = ['I love my dog', 'I love my cat', 'You love my dog!', 'Do you think my dog is amazing?']\n",
    "\n",
    "tokenizer = Tokenizer(num_words=100, oov_token='<OOV>')\n",
    "tokenizer.fit_on_texts(sentences)\n",
    "\n",
    "word_index = tokenizer.word_index\n",
    "sequences = tokenizer.texts_to_sequences(sentences)\n",
    "\n",
    "print(word_index)\n",
    "print(sequences)"
   ]
  },
  {
   "cell_type": "code",
   "execution_count": 11,
   "metadata": {},
   "outputs": [
    {
     "name": "stdout",
     "output_type": "stream",
     "text": [
      "[[5, 1, 3, 2, 4], [2, 4, 1, 2, 1]]\n"
     ]
    }
   ],
   "source": [
    "test_data = ['I really love my dog', 'my dog loves my manatee']\n",
    "\n",
    "test_seq = tokenizer.texts_to_sequences(test_data)\n",
    "print(test_seq)"
   ]
  },
  {
   "cell_type": "code",
   "execution_count": 14,
   "metadata": {},
   "outputs": [
    {
     "name": "stdout",
     "output_type": "stream",
     "text": [
      "[[ 0  0  0  5  3  2  4]\n",
      " [ 0  0  0  5  3  2  7]\n",
      " [ 0  0  0  6  3  2  4]\n",
      " [ 8  6  9  2  4 10 11]]\n"
     ]
    }
   ],
   "source": [
    "padded = pad_sequences(sequences)\n",
    "print(padded)"
   ]
  },
  {
   "cell_type": "code",
   "execution_count": 16,
   "metadata": {},
   "outputs": [
    {
     "name": "stdout",
     "output_type": "stream",
     "text": [
      "[[ 5  3  2  4  0  0  0]\n",
      " [ 5  3  2  7  0  0  0]\n",
      " [ 6  3  2  4  0  0  0]\n",
      " [ 8  6  9  2  4 10 11]]\n"
     ]
    }
   ],
   "source": [
    "padded = pad_sequences(sequences, padding='post')\n",
    "print(padded)"
   ]
  },
  {
   "cell_type": "code",
   "execution_count": 17,
   "metadata": {},
   "outputs": [
    {
     "name": "stdout",
     "output_type": "stream",
     "text": [
      "[[ 5  3  2  4  0]\n",
      " [ 5  3  2  7  0]\n",
      " [ 6  3  2  4  0]\n",
      " [ 9  2  4 10 11]]\n"
     ]
    }
   ],
   "source": [
    "padded = pad_sequences(sequences, padding='post', maxlen=5)\n",
    "print(padded)"
   ]
  },
  {
   "cell_type": "code",
   "execution_count": 18,
   "metadata": {},
   "outputs": [
    {
     "name": "stdout",
     "output_type": "stream",
     "text": [
      "[[5 3 2 4 0]\n",
      " [5 3 2 7 0]\n",
      " [6 3 2 4 0]\n",
      " [8 6 9 2 4]]\n"
     ]
    }
   ],
   "source": [
    "padded = pad_sequences(sequences, padding='post', maxlen=5, truncating='post')\n",
    "print(padded)"
   ]
  },
  {
   "cell_type": "markdown",
   "metadata": {},
   "source": [
    "Sarcasm dataset:"
   ]
  },
  {
   "cell_type": "code",
   "execution_count": 2,
   "metadata": {},
   "outputs": [],
   "source": [
    "def parse_data(file):\n",
    "    for l in open(file,'r'):\n",
    "        yield json.loads(l)\n",
    "\n",
    "data = list(parse_data('datasets/sarcasm/Sarcasm_Headlines_Dataset.json'))\n",
    "\n",
    "sentences = []\n",
    "labels = []\n",
    "urls = []\n",
    "\n",
    "for item in data:\n",
    "    sentences.append(item['headline'])\n",
    "    labels.append(item['is_sarcastic'])\n",
    "    urls.append(item['article_link'])"
   ]
  },
  {
   "cell_type": "code",
   "execution_count": 4,
   "metadata": {},
   "outputs": [
    {
     "name": "stdout",
     "output_type": "stream",
     "text": [
      "[  308 15115   679  3337  2298    48   382  2576 15116     6  2577  8434\n",
      "     0     0     0     0     0     0     0     0     0     0     0     0\n",
      "     0     0     0     0     0     0     0     0     0     0     0     0\n",
      "     0     0     0     0]\n",
      "26709 40\n"
     ]
    }
   ],
   "source": [
    "tokenizer = Tokenizer(oov_token='<OOV>')\n",
    "tokenizer.fit_on_texts(sentences)\n",
    "word_index = tokenizer.word_index\n",
    "\n",
    "sequences = tokenizer.texts_to_sequences(sentences)\n",
    "padded = pad_sequences(sequences, padding='post')\n",
    "print(padded[0])\n",
    "m,n = padded.shape\n",
    "print(m,n)"
   ]
  },
  {
   "cell_type": "code",
   "execution_count": 16,
   "metadata": {},
   "outputs": [],
   "source": [
    "vocab_size = 10000\n",
    "embedding_dim = 16\n",
    "max_length = 100\n",
    "trunc_type='post'\n",
    "padding_type='post'\n",
    "oov_tok = \"<OOV>\""
   ]
  },
  {
   "cell_type": "code",
   "execution_count": 30,
   "metadata": {},
   "outputs": [],
   "source": [
    "training_size = int(0.8*m)\n",
    "training_sentences = sentences[:training_size]\n",
    "testing_sentences = sentences[training_size:]\n",
    "training_labels = np.array(labels[:training_size])\n",
    "testing_labels = np.array(labels[training_size:])"
   ]
  },
  {
   "cell_type": "code",
   "execution_count": 31,
   "metadata": {},
   "outputs": [],
   "source": [
    "tokenizer = Tokenizer(num_words=vocab_size, oov_token=oov_tok)\n",
    "tokenizer.fit_on_texts(training_sentences)\n",
    "\n",
    "word_index = tokenizer.word_index\n",
    "\n",
    "training_sequences = tokenizer.texts_to_sequences(training_sentences)\n",
    "training_padded = pad_sequences(training_sequences, maxlen=max_length, padding=padding_type, truncating=trunc_type)\n",
    "\n",
    "testing_sequences = tokenizer.texts_to_sequences(testing_sentences)\n",
    "testing_padded = pad_sequences(testing_sequences, maxlen=max_length, padding=padding_type, truncating=trunc_type)"
   ]
  },
  {
   "cell_type": "code",
   "execution_count": 32,
   "metadata": {},
   "outputs": [],
   "source": [
    "model = tf.keras.Sequential([\n",
    "    tf.keras.layers.Embedding(vocab_size, embedding_dim, input_length=max_length),\n",
    "    tf.keras.layers.GlobalAveragePooling1D(),\n",
    "    tf.keras.layers.Dense(24, activation='relu'),\n",
    "    tf.keras.layers.Dense(1, activation='sigmoid')\n",
    "])\n",
    "model.compile(loss='binary_crossentropy', optimizer='adam', metrics=['accuracy'])"
   ]
  },
  {
   "cell_type": "code",
   "execution_count": 33,
   "metadata": {},
   "outputs": [
    {
     "name": "stdout",
     "output_type": "stream",
     "text": [
      "Epoch 1/30\n",
      "668/668 - 4s - loss: 0.6741 - accuracy: 0.5742 - val_loss: 0.6129 - val_accuracy: 0.6782 - 4s/epoch - 6ms/step\n",
      "Epoch 2/30\n",
      "668/668 - 2s - loss: 0.4597 - accuracy: 0.8164 - val_loss: 0.3918 - val_accuracy: 0.8353 - 2s/epoch - 3ms/step\n",
      "Epoch 3/30\n",
      "668/668 - 3s - loss: 0.3245 - accuracy: 0.8725 - val_loss: 0.3577 - val_accuracy: 0.8484 - 3s/epoch - 4ms/step\n",
      "Epoch 4/30\n",
      "668/668 - 2s - loss: 0.2745 - accuracy: 0.8925 - val_loss: 0.3472 - val_accuracy: 0.8538 - 2s/epoch - 3ms/step\n",
      "Epoch 5/30\n",
      "668/668 - 2s - loss: 0.2394 - accuracy: 0.9070 - val_loss: 0.3413 - val_accuracy: 0.8572 - 2s/epoch - 3ms/step\n",
      "Epoch 6/30\n",
      "668/668 - 2s - loss: 0.2116 - accuracy: 0.9184 - val_loss: 0.3456 - val_accuracy: 0.8547 - 2s/epoch - 3ms/step\n",
      "Epoch 7/30\n",
      "668/668 - 2s - loss: 0.1905 - accuracy: 0.9290 - val_loss: 0.3572 - val_accuracy: 0.8521 - 2s/epoch - 3ms/step\n",
      "Epoch 8/30\n",
      "668/668 - 2s - loss: 0.1719 - accuracy: 0.9364 - val_loss: 0.3659 - val_accuracy: 0.8499 - 2s/epoch - 3ms/step\n",
      "Epoch 9/30\n",
      "668/668 - 2s - loss: 0.1570 - accuracy: 0.9425 - val_loss: 0.3939 - val_accuracy: 0.8444 - 2s/epoch - 4ms/step\n",
      "Epoch 10/30\n",
      "668/668 - 2s - loss: 0.1445 - accuracy: 0.9480 - val_loss: 0.3971 - val_accuracy: 0.8461 - 2s/epoch - 3ms/step\n",
      "Epoch 11/30\n",
      "668/668 - 2s - loss: 0.1330 - accuracy: 0.9532 - val_loss: 0.4119 - val_accuracy: 0.8487 - 2s/epoch - 3ms/step\n",
      "Epoch 12/30\n",
      "668/668 - 2s - loss: 0.1222 - accuracy: 0.9575 - val_loss: 0.4297 - val_accuracy: 0.8467 - 2s/epoch - 3ms/step\n",
      "Epoch 13/30\n",
      "668/668 - 2s - loss: 0.1125 - accuracy: 0.9603 - val_loss: 0.4499 - val_accuracy: 0.8443 - 2s/epoch - 3ms/step\n",
      "Epoch 14/30\n",
      "668/668 - 2s - loss: 0.1043 - accuracy: 0.9649 - val_loss: 0.4703 - val_accuracy: 0.8428 - 2s/epoch - 3ms/step\n",
      "Epoch 15/30\n",
      "668/668 - 2s - loss: 0.0970 - accuracy: 0.9668 - val_loss: 0.4993 - val_accuracy: 0.8383 - 2s/epoch - 3ms/step\n",
      "Epoch 16/30\n",
      "668/668 - 2s - loss: 0.0902 - accuracy: 0.9700 - val_loss: 0.5167 - val_accuracy: 0.8411 - 2s/epoch - 3ms/step\n",
      "Epoch 17/30\n",
      "668/668 - 2s - loss: 0.0838 - accuracy: 0.9717 - val_loss: 0.5522 - val_accuracy: 0.8349 - 2s/epoch - 3ms/step\n",
      "Epoch 18/30\n",
      "668/668 - 2s - loss: 0.0782 - accuracy: 0.9739 - val_loss: 0.5684 - val_accuracy: 0.8330 - 2s/epoch - 3ms/step\n",
      "Epoch 19/30\n",
      "668/668 - 2s - loss: 0.0734 - accuracy: 0.9770 - val_loss: 0.5911 - val_accuracy: 0.8343 - 2s/epoch - 4ms/step\n",
      "Epoch 20/30\n",
      "668/668 - 2s - loss: 0.0688 - accuracy: 0.9781 - val_loss: 0.6183 - val_accuracy: 0.8310 - 2s/epoch - 3ms/step\n",
      "Epoch 21/30\n",
      "668/668 - 2s - loss: 0.0638 - accuracy: 0.9798 - val_loss: 0.6601 - val_accuracy: 0.8259 - 2s/epoch - 3ms/step\n",
      "Epoch 22/30\n",
      "668/668 - 2s - loss: 0.0595 - accuracy: 0.9821 - val_loss: 0.6918 - val_accuracy: 0.8214 - 2s/epoch - 3ms/step\n",
      "Epoch 23/30\n",
      "668/668 - 2s - loss: 0.0575 - accuracy: 0.9829 - val_loss: 0.6974 - val_accuracy: 0.8263 - 2s/epoch - 3ms/step\n",
      "Epoch 24/30\n",
      "668/668 - 2s - loss: 0.0516 - accuracy: 0.9848 - val_loss: 0.7274 - val_accuracy: 0.8276 - 2s/epoch - 3ms/step\n",
      "Epoch 25/30\n",
      "668/668 - 2s - loss: 0.0494 - accuracy: 0.9854 - val_loss: 0.7609 - val_accuracy: 0.8224 - 2s/epoch - 4ms/step\n",
      "Epoch 26/30\n",
      "668/668 - 3s - loss: 0.0459 - accuracy: 0.9862 - val_loss: 0.7916 - val_accuracy: 0.8212 - 3s/epoch - 5ms/step\n",
      "Epoch 27/30\n",
      "668/668 - 3s - loss: 0.0428 - accuracy: 0.9875 - val_loss: 0.8289 - val_accuracy: 0.8186 - 3s/epoch - 4ms/step\n",
      "Epoch 28/30\n",
      "668/668 - 2s - loss: 0.0410 - accuracy: 0.9885 - val_loss: 0.8828 - val_accuracy: 0.8117 - 2s/epoch - 4ms/step\n",
      "Epoch 29/30\n",
      "668/668 - 3s - loss: 0.0380 - accuracy: 0.9889 - val_loss: 0.8832 - val_accuracy: 0.8173 - 3s/epoch - 4ms/step\n",
      "Epoch 30/30\n",
      "668/668 - 2s - loss: 0.0385 - accuracy: 0.9880 - val_loss: 0.9174 - val_accuracy: 0.8137 - 2s/epoch - 4ms/step\n"
     ]
    }
   ],
   "source": [
    "num_epochs = 30\n",
    "history = model.fit(training_padded, training_labels, epochs=num_epochs,\n",
    "                    validation_data=(testing_padded, testing_labels), verbose=2)"
   ]
  },
  {
   "cell_type": "code",
   "execution_count": 35,
   "metadata": {},
   "outputs": [
    {
     "name": "stdout",
     "output_type": "stream",
     "text": [
      "1/1 [==============================] - 0s 56ms/step\n",
      "[[0.9757321 ]\n",
      " [0.00196995]\n",
      " [0.9322786 ]\n",
      " [0.00320982]\n",
      " [0.14003538]]\n"
     ]
    }
   ],
   "source": [
    "sentence = ['granny starting to fear spiders in the garden might be real',\n",
    "            'game of thrones season finale showing this sunday night',\n",
    "            'I may not be good enough for your great company',\n",
    "            'I like you',\n",
    "            'You are not a good person']\n",
    "sequences = tokenizer.texts_to_sequences(sentence)\n",
    "padded = pad_sequences(sequences, maxlen=max_length, padding=padding_type, truncating=trunc_type)\n",
    "\n",
    "print(model.predict(padded))"
   ]
  },
  {
   "cell_type": "code",
   "execution_count": 46,
   "metadata": {},
   "outputs": [
    {
     "data": {
      "image/png": "[encoded data removed]",
      "text/plain": [
       "<Figure size 640x480 with 1 Axes>"
      ]
     },
     "metadata": {},
     "output_type": "display_data"
    }
   ],
   "source": [
    "plt.plot(history.history['accuracy'], label='accuracy')\n",
    "plt.plot(history.history['val_accuracy'], label='validation accuracy')\n",
    "\n",
    "plt.plot(history.history['loss'], '--', label='loss')\n",
    "plt.plot(history.history['val_loss'], '--', label='validation loss')\n",
    "\n",
    "plt.xlabel('Epochs')\n",
    "plt.ylabel('Metric')\n",
    "plt.legend()\n",
    "plt.show()"
   ]
  }
 ],
 "metadata": {
  "kernelspec": {
   "display_name": "Python 3",
   "language": "python",
   "name": "python3"
  },
  "language_info": {
   "codemirror_mode": {
    "name": "ipython",
    "version": 3
   },
   "file_extension": ".py",
   "mimetype": "text/x-python",
   "name": "python",
   "nbconvert_exporter": "python",
   "pygments_lexer": "ipython3",
   "version": "3.8.5"
  }
 },
 "nbformat": 4,
 "nbformat_minor": 2
}
