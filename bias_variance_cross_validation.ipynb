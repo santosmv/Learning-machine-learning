{
 "cells": [
  {
   "attachments": {},
   "cell_type": "markdown",
   "metadata": {},
   "source": [
    "This notebook applies optimization techniques to improve the **handwritten digit classification** analysis using:\n",
    "\n",
    "- Cross validation and test data\n",
    "- Evaluating bias and variance\n",
    "- Test different possible models (changing polynomial degree or regularization parameter)\n",
    "- Plotting learning curves"
   ]
  },
  {
   "attachments": {},
   "cell_type": "markdown",
   "metadata": {},
   "source": [
    "#### Digit recognition"
   ]
  },
  {
   "cell_type": "code",
   "execution_count": 1,
   "metadata": {},
   "outputs": [],
   "source": [
    "import tensorflow as tf\n",
    "from tensorflow.keras.layers import Dense\n",
    "from tensorflow.keras.models import Sequential\n",
    "from tensorflow.keras.losses import SparseCategoricalCrossentropy\n",
    "from tensorflow.keras.optimizers import Adam\n",
    "import numpy as np\n",
    "import matplotlib.pyplot as plt\n",
    "from sklearn.model_selection import train_test_split\n",
    "from tensorflow.keras.regularizers import L2\n",
    "import sqlite3\n",
    "import seaborn as sb"
   ]
  },
  {
   "cell_type": "code",
   "execution_count": 2,
   "metadata": {},
   "outputs": [],
   "source": [
    "connection = sqlite3.connect('data/Optimization.db')\n",
    "cursor = connection.cursor()"
   ]
  },
  {
   "cell_type": "code",
   "execution_count": 82,
   "metadata": {},
   "outputs": [
    {
     "data": {
      "text/plain": [
       "<sqlite3.Cursor at 0x1ba02c79570>"
      ]
     },
     "execution_count": 82,
     "metadata": {},
     "output_type": "execute_result"
    }
   ],
   "source": [
    "cursor.execute(\"\"\"CREATE TABLE Cost(J_train REAL,\n",
    "                                    J_cv REAL,\n",
    "                                    n_layers REAL,\n",
    "                                    n_units REAL,\n",
    "                                    reg REAL\n",
    ")\n",
    "\"\"\")"
   ]
  },
  {
   "cell_type": "code",
   "execution_count": 4,
   "metadata": {},
   "outputs": [],
   "source": [
    "(X,y),(X_,y_)  = tf.keras.datasets.mnist.load_data('mnist.npz')\n",
    "X = np.concatenate((X,X_))\n",
    "y = np.concatenate((y,y_))\n",
    "\n",
    "X, X_, y, y_ = train_test_split(X, y, test_size=0.2, random_state=62)\n",
    "X_test, X_cv, y_test, y_cv = train_test_split(X_, y_, test_size=0.5, random_state=62)"
   ]
  },
  {
   "cell_type": "code",
   "execution_count": 4,
   "metadata": {},
   "outputs": [
    {
     "name": "stdout",
     "output_type": "stream",
     "text": [
      "(56000, 28, 28) (7000, 28, 28) (7000, 28, 28)\n"
     ]
    }
   ],
   "source": [
    "print(X.shape, X_test.shape, X_cv.shape)"
   ]
  },
  {
   "cell_type": "code",
   "execution_count": 5,
   "metadata": {},
   "outputs": [],
   "source": [
    "X = X.reshape(-1,X[0].shape[0]*X[0].shape[1])\n",
    "X_cv = X_cv.reshape(-1,X_cv[0].shape[0]*X_cv[0].shape[1])\n",
    "X_test = X_test.reshape(-1,X_test[0].shape[0]*X_test[0].shape[1])"
   ]
  },
  {
   "cell_type": "code",
   "execution_count": 6,
   "metadata": {},
   "outputs": [
    {
     "name": "stdout",
     "output_type": "stream",
     "text": [
      "(56000, 784) (7000, 784) (7000, 784)\n"
     ]
    }
   ],
   "source": [
    "print(X.shape, X_test.shape, X_cv.shape)"
   ]
  },
  {
   "cell_type": "code",
   "execution_count": 17,
   "metadata": {},
   "outputs": [
    {
     "data": {
      "image/png": "[encoded data removed]",
      "text/plain": [
       "<Figure size 500x500 with 9 Axes>"
      ]
     },
     "metadata": {},
     "output_type": "display_data"
    }
   ],
   "source": [
    "fig,ax = plt.subplots(3,3,figsize=(5,5))\n",
    "\n",
    "m,n = X.shape\n",
    "\n",
    "k = 0\n",
    "for i in range(ax.shape[0]):\n",
    "    for j in range(ax.shape[1]):\n",
    "        k = np.random.randint(m)\n",
    "        ax[i,j].set_axis_off()\n",
    "        x = int(np.sqrt(X[k].shape[0]))\n",
    "        ax[i,j].imshow(X[k].reshape((x,x)), cmap='Reds')\n",
    "        ax[i,j].set_title(y[k])\n",
    "        k += 1\n",
    "\n",
    "plt.tight_layout()\n",
    "plt.show()"
   ]
  },
  {
   "attachments": {},
   "cell_type": "markdown",
   "metadata": {},
   "source": [
    "Make a prediction:"
   ]
  },
  {
   "cell_type": "code",
   "execution_count": 17,
   "metadata": {},
   "outputs": [
    {
     "name": "stdout",
     "output_type": "stream",
     "text": [
      "Model: \"Multi_Class_Classification_2_layers\"\n",
      "_________________________________________________________________\n",
      " Layer (type)                Output Shape              Param #   \n",
      "=================================================================\n",
      " dense_29 (Dense)            (None, 35)                27475     \n",
      "                                                                 \n",
      " dense_30 (Dense)            (None, 622)               22392     \n",
      "                                                                 \n",
      "=================================================================\n",
      "Total params: 49,867\n",
      "Trainable params: 49,867\n",
      "Non-trainable params: 0\n",
      "_________________________________________________________________\n",
      "Epoch 1/10\n",
      "1575/1575 [==============================] - 6s 4ms/step - loss: 9.7314 - val_loss: 2.9977\n",
      "Epoch 2/10\n",
      "1575/1575 [==============================] - 7s 4ms/step - loss: 1.6861 - val_loss: 0.8808\n",
      "Epoch 3/10\n",
      "1575/1575 [==============================] - 8s 5ms/step - loss: 0.5752 - val_loss: 0.4299\n",
      "Epoch 4/10\n",
      "1575/1575 [==============================] - 8s 5ms/step - loss: 0.3514 - val_loss: 0.3302\n",
      "Epoch 5/10\n",
      "1575/1575 [==============================] - 8s 5ms/step - loss: 0.3100 - val_loss: 0.3064\n",
      "Epoch 6/10\n",
      "1575/1575 [==============================] - 8s 5ms/step - loss: 0.2975 - val_loss: 0.3045\n",
      "Epoch 7/10\n",
      "1575/1575 [==============================] - 8s 5ms/step - loss: 0.2898 - val_loss: 0.3131\n",
      "Epoch 8/10\n",
      "1575/1575 [==============================] - 8s 5ms/step - loss: 0.2862 - val_loss: 0.3194\n",
      "Epoch 9/10\n",
      "1575/1575 [==============================] - 8s 5ms/step - loss: 0.2840 - val_loss: 0.3013\n",
      "Epoch 10/10\n",
      "1575/1575 [==============================] - 8s 5ms/step - loss: 0.2834 - val_loss: 0.2966\n",
      "dict_keys(['loss', 'val_loss'])\n"
     ]
    },
    {
     "data": {
      "image/png": "[encoded data removed]",
      "text/plain": [
       "<Figure size 640x480 with 1 Axes>"
      ]
     },
     "metadata": {},
     "output_type": "display_data"
    }
   ],
   "source": [
    "shape_init = tf.keras.Input(shape=(len(X[0]),))\n",
    "layers_list = []\n",
    "reg_value = 0.2\n",
    "n_layers = 2\n",
    "units_list = []\n",
    "m,n = X.shape\n",
    "\n",
    "for i in range(n_layers):\n",
    "    if i == n_layers-1:\n",
    "        act = 'linear'\n",
    "    else:\n",
    "        act = 'relu'\n",
    "\n",
    "    Ns = m\n",
    "    No = 10\n",
    "    if i == 0:\n",
    "        Ni = n\n",
    "    else:\n",
    "        Ni = units_list[i-1]\n",
    "    units = int(Ns/(2*(Ni+No)))\n",
    "    units_list.append(units)\n",
    "    # units = n_layers * 10 - i*10\n",
    "    layers_list.append(Dense(units=units, activation=act, kernel_regularizer=L2(reg_value)))\n",
    "\n",
    "model = Sequential([shape_init] + layers_list,\n",
    "                name='Multi_Class_Classification_%i_layers'%n_layers\n",
    "                )\n",
    "model.compile(loss=SparseCategoricalCrossentropy(from_logits=True), optimizer=Adam(0.0002))\n",
    "model.summary()\n",
    "history = model.fit(X, y, validation_split=0.1, epochs=10)\n",
    "print(history.history.keys())\n",
    "\n",
    "plt.plot(history.history['loss'])\n",
    "plt.plot(history.history['val_loss'])\n",
    "plt.legend(['Train','CV'])\n",
    "plt.show()"
   ]
  },
  {
   "attachments": {},
   "cell_type": "markdown",
   "metadata": {},
   "source": [
    "The CV vs epochs above, does not correspond to CV in in this notebook, but an automatically chosen CV by tensorflow."
   ]
  },
  {
   "cell_type": "code",
   "execution_count": 18,
   "metadata": {},
   "outputs": [
    {
     "name": "stdout",
     "output_type": "stream",
     "text": [
      "1750/1750 [==============================] - 3s 2ms/step\n",
      "219/219 [==============================] - 0s 2ms/step\n",
      "J_train = 0.04233928571428569\n",
      "J_cv = 0.047285714285714264\n"
     ]
    }
   ],
   "source": [
    "prediction = model.predict(X)\n",
    "prediction_cv = model.predict(X_cv)\n",
    "k = 0\n",
    "j = 0\n",
    "\n",
    "for i in range(len(prediction)):\n",
    "    ip = np.where(prediction[i] == max(prediction[i]))\n",
    "    if ip[0][0] == y[i]:\n",
    "        k += 1\n",
    "J_train = 1-k/len(X)\n",
    "\n",
    "for i in range(len(prediction_cv)):\n",
    "    ip = np.where(prediction_cv[i] == max(prediction_cv[i]))\n",
    "    if ip[0][0] == y_cv[i]:\n",
    "        j += 1\n",
    "J_cv = 1-j/len(X_cv)\n",
    "\n",
    "print('J_train =', J_train)\n",
    "print('J_cv =', J_cv)"
   ]
  },
  {
   "attachments": {},
   "cell_type": "markdown",
   "metadata": {},
   "source": [
    "It results in a $\\sim 4.7$% and $\\sim 4.2$% of misclassification in train and cross-validation data respectively.\n",
    "\n",
    "Let us try to adjust the model to be more efficient:"
   ]
  },
  {
   "cell_type": "code",
   "execution_count": 20,
   "metadata": {},
   "outputs": [],
   "source": [
    "def create_model(X_, y_, n_layers, reg_value):\n",
    "    shape_init = tf.keras.Input(shape=(len(X[0]),))\n",
    "    layers_list = []\n",
    "\n",
    "    # checkpoint_path = \"models/mnist/cp-{epoch:04d}.ckpt\"\n",
    "    # cp_callback = tf.keras.callbacks.ModelCheckpoint(\n",
    "    # filepath=checkpoint_path, \n",
    "    # verbose=1, \n",
    "    # save_weights_only=True,\n",
    "    # save_freq=5*batch_size)\n",
    "\n",
    "    for i in range(n_layers):\n",
    "        if i == n_layers-1:\n",
    "            act = 'linear'\n",
    "        else:\n",
    "            act = 'relu'\n",
    "        \n",
    "        #Automatically define number of units for each layer\n",
    "        Ns = m\n",
    "        No = 10\n",
    "        if i == 0:\n",
    "            Ni = n\n",
    "        else:\n",
    "            Ni = units_list[i-1]\n",
    "        units = int(Ns/(2*(Ni+No)))\n",
    "        units_list.append(units)\n",
    "\n",
    "        # units = n_layers * 10 - i*10\n",
    "        layers_list.append(Dense(units=units, activation=act, kernel_regularizer=L2(reg_value)))\n",
    "\n",
    "    model = Sequential([shape_init] + layers_list,\n",
    "                    name='Multi_Class_Classification_%i_layers'%n_layers\n",
    "                    )\n",
    "    model.compile(loss=SparseCategoricalCrossentropy(from_logits=True), optimizer=Adam(0.0002))\n",
    "    model.fit(X_, y_, epochs=10)\n",
    "\n",
    "    # model.save('models/multi_class_classification_mnist_cv_%s_layers'%n_layers)\n",
    "    \n",
    "    return model"
   ]
  },
  {
   "cell_type": "code",
   "execution_count": 21,
   "metadata": {},
   "outputs": [],
   "source": [
    "def misclassification(X_, y_, prediction):\n",
    "    j = 0\n",
    "    m,n = X_.shape\n",
    "    for i in range(m):\n",
    "        ip = np.where(prediction[i] == max(prediction[i]))\n",
    "        if ip[0][0] != y_[i]:\n",
    "            j += 1\n",
    "    J = j/m\n",
    "    return J\n",
    "\n",
    "def cost_final(X_, y_, X_cv_, y_cv_, n_layers, reg_value):\n",
    "    model = create_model(X_, y_, n_layers, reg_value)\n",
    "    prediction = model.predict(X_)\n",
    "    prediction_cv = model.predict(X_cv)\n",
    "\n",
    "    J_train = misclassification(X_, y_, prediction)\n",
    "    J_cv = misclassification(X_cv_, y_cv_, prediction_cv)\n",
    "    \n",
    "    return J_train, J_cv, model"
   ]
  },
  {
   "cell_type": "code",
   "execution_count": 22,
   "metadata": {},
   "outputs": [],
   "source": [
    "def evaluate_layers_units():\n",
    "    n_layers_list = list(range(1,7))\n",
    "    J_train_array = np.zeros(len(n_layers_list))\n",
    "    J_cv_array = np.zeros(len(n_layers_list))\n",
    "    reg_value = 0.2\n",
    "\n",
    "    for i in range(len(n_layers_list)):\n",
    "        n_layers = n_layers_list[i]\n",
    "        n_ = list(reversed(range(1, n_layers)))\n",
    "        n_units = sum([10*j for j in n_])\n",
    "        J_train, J_cv, model = cost_final(X, y, X_cv, y_cv, n_layers, reg_value)\n",
    "\n",
    "        J_train_array[i] = J_train\n",
    "        J_cv_array[i] = J_cv\n",
    "\n",
    "        cursor.execute(\"INSERT INTO Cost VALUES (?,?,?,?,?)\",(J_train, J_cv, n_layers, n_units, reg_value,))\n",
    "    connection.commit()\n",
    "        \n",
    "    return J_train_array, J_cv_array, n_layers_list"
   ]
  },
  {
   "cell_type": "code",
   "execution_count": 23,
   "metadata": {},
   "outputs": [],
   "source": [
    "def evaluate_regularization(n_layers):\n",
    "    reg_list = np.geomspace(0.01,1,7)\n",
    "    J_train_array = np.zeros(len(reg_list))\n",
    "    J_cv_array = np.zeros(len(reg_list))\n",
    "    # n_layers = 5\n",
    "    n_ = list(reversed(range(1, n_layers)))\n",
    "    n_units = sum([10*j for j in n_])\n",
    "\n",
    "    for i in range(len(reg_list)):\n",
    "        reg_value = reg_list[i]\n",
    "        J_train, J_cv, model = cost_final(X, y, X_cv, y_cv, n_layers, reg_value)\n",
    "\n",
    "        J_train_array[i] = J_train\n",
    "        J_cv_array[i] = J_cv\n",
    "\n",
    "        print('regularization =', reg_value)\n",
    "\n",
    "        cursor.execute(\"INSERT INTO Cost VALUES (?,?,?,?,?)\",(J_train, J_cv, n_layers, n_units, reg_value,))\n",
    "    connection.commit()\n",
    "        \n",
    "    return J_train_array, J_cv_array, reg_list"
   ]
  },
  {
   "cell_type": "code",
   "execution_count": 25,
   "metadata": {},
   "outputs": [
    {
     "name": "stdout",
     "output_type": "stream",
     "text": [
      "Epoch 1/10\n",
      "1750/1750 [==============================] - 4s 2ms/step - loss: 25.0283\n",
      "Epoch 2/10\n",
      "1750/1750 [==============================] - 3s 2ms/step - loss: 8.1822\n",
      "Epoch 3/10\n",
      "1750/1750 [==============================] - 3s 2ms/step - loss: 5.4158\n",
      "Epoch 4/10\n",
      "1750/1750 [==============================] - 3s 2ms/step - loss: 4.1568\n",
      "Epoch 5/10\n",
      "1750/1750 [==============================] - 3s 2ms/step - loss: 3.3952\n",
      "Epoch 6/10\n",
      "1750/1750 [==============================] - 3s 2ms/step - loss: 2.8973\n",
      "Epoch 7/10\n",
      "1750/1750 [==============================] - 3s 2ms/step - loss: 2.5167\n",
      "Epoch 8/10\n",
      "1750/1750 [==============================] - 4s 2ms/step - loss: 2.1646\n",
      "Epoch 9/10\n",
      "1750/1750 [==============================] - 4s 2ms/step - loss: 1.9205\n",
      "Epoch 10/10\n",
      "1750/1750 [==============================] - 4s 2ms/step - loss: 1.7663\n",
      "1750/1750 [==============================] - 3s 2ms/step\n",
      "219/219 [==============================] - 0s 1ms/step\n",
      "Epoch 1/10\n",
      "1750/1750 [==============================] - 6s 3ms/step - loss: 8.2446\n",
      "Epoch 2/10\n",
      "1750/1750 [==============================] - 7s 4ms/step - loss: 1.1918\n",
      "Epoch 3/10\n",
      "1750/1750 [==============================] - 7s 4ms/step - loss: 0.4120\n",
      "Epoch 4/10\n",
      "1750/1750 [==============================] - 6s 4ms/step - loss: 0.3231\n",
      "Epoch 5/10\n",
      "1750/1750 [==============================] - 7s 4ms/step - loss: 0.3040\n",
      "Epoch 6/10\n",
      "1750/1750 [==============================] - 8s 4ms/step - loss: 0.2953\n",
      "Epoch 7/10\n",
      "1750/1750 [==============================] - 8s 5ms/step - loss: 0.2896\n",
      "Epoch 8/10\n",
      "1750/1750 [==============================] - 6s 4ms/step - loss: 0.2889\n",
      "Epoch 9/10\n",
      "1750/1750 [==============================] - 6s 3ms/step - loss: 0.2860\n",
      "Epoch 10/10\n",
      "1750/1750 [==============================] - 6s 3ms/step - loss: 0.2841\n",
      "1750/1750 [==============================] - 3s 2ms/step\n",
      "219/219 [==============================] - 0s 2ms/step\n",
      "Epoch 1/10\n",
      "1750/1750 [==============================] - 6s 3ms/step - loss: 15.9941\n",
      "Epoch 2/10\n",
      "1750/1750 [==============================] - 6s 3ms/step - loss: 2.5291\n",
      "Epoch 3/10\n",
      "1750/1750 [==============================] - 6s 3ms/step - loss: 0.7696\n",
      "Epoch 4/10\n",
      "1750/1750 [==============================] - 5s 3ms/step - loss: 0.5913\n",
      "Epoch 5/10\n",
      "1750/1750 [==============================] - 5s 3ms/step - loss: 0.5734\n",
      "Epoch 6/10\n",
      "1750/1750 [==============================] - 6s 3ms/step - loss: 0.5703\n",
      "Epoch 7/10\n",
      "1750/1750 [==============================] - 5s 3ms/step - loss: 0.5634\n",
      "Epoch 8/10\n",
      "1750/1750 [==============================] - 6s 3ms/step - loss: 0.5566\n",
      "Epoch 9/10\n",
      "1750/1750 [==============================] - 6s 3ms/step - loss: 0.5533\n",
      "Epoch 10/10\n",
      "1750/1750 [==============================] - 6s 3ms/step - loss: 0.5509\n",
      "1750/1750 [==============================] - 5s 3ms/step\n",
      "219/219 [==============================] - 1s 2ms/step\n",
      "Epoch 1/10\n",
      "1750/1750 [==============================] - 8s 4ms/step - loss: 11.1119\n",
      "Epoch 2/10\n",
      "1750/1750 [==============================] - 7s 4ms/step - loss: 1.1960\n",
      "Epoch 3/10\n",
      "1750/1750 [==============================] - 7s 4ms/step - loss: 1.0494\n",
      "Epoch 4/10\n",
      "1750/1750 [==============================] - 8s 4ms/step - loss: 1.0243\n",
      "Epoch 5/10\n",
      "1750/1750 [==============================] - 7s 4ms/step - loss: 1.0067\n",
      "Epoch 6/10\n",
      "1750/1750 [==============================] - 7s 4ms/step - loss: 0.9947\n",
      "Epoch 7/10\n",
      "1750/1750 [==============================] - 9s 5ms/step - loss: 0.9846\n",
      "Epoch 8/10\n",
      "1750/1750 [==============================] - 8s 5ms/step - loss: 0.9767\n",
      "Epoch 9/10\n",
      "1750/1750 [==============================] - 6s 4ms/step - loss: 0.9713\n",
      "Epoch 10/10\n",
      "1750/1750 [==============================] - 7s 4ms/step - loss: 0.9640\n",
      "1750/1750 [==============================] - 4s 2ms/step\n",
      "219/219 [==============================] - 1s 2ms/step\n",
      "Epoch 1/10\n",
      "1750/1750 [==============================] - 20s 11ms/step - loss: 18.7803\n",
      "Epoch 2/10\n",
      "1750/1750 [==============================] - 21s 12ms/step - loss: 1.6561\n",
      "Epoch 3/10\n",
      "1750/1750 [==============================] - 20s 11ms/step - loss: 1.4869\n",
      "Epoch 4/10\n",
      "1750/1750 [==============================] - 19s 11ms/step - loss: 1.4559\n",
      "Epoch 5/10\n",
      "1750/1750 [==============================] - 20s 11ms/step - loss: 1.4394\n",
      "Epoch 6/10\n",
      "1750/1750 [==============================] - 21s 12ms/step - loss: 1.4295\n",
      "Epoch 7/10\n",
      "1750/1750 [==============================] - 21s 12ms/step - loss: 1.4181\n",
      "Epoch 8/10\n",
      "1750/1750 [==============================] - 20s 12ms/step - loss: 1.4073\n",
      "Epoch 9/10\n",
      "1750/1750 [==============================] - 23s 13ms/step - loss: 1.3975\n",
      "Epoch 10/10\n",
      "1750/1750 [==============================] - 20s 12ms/step - loss: 1.3878\n",
      "1750/1750 [==============================] - 8s 5ms/step\n",
      "219/219 [==============================] - 1s 5ms/step\n",
      "Epoch 1/10\n",
      "1750/1750 [==============================] - 27s 15ms/step - loss: 22.2215\n",
      "Epoch 2/10\n",
      "1750/1750 [==============================] - 20s 11ms/step - loss: 1.9837\n",
      "Epoch 3/10\n",
      "1750/1750 [==============================] - 22s 13ms/step - loss: 1.9309\n",
      "Epoch 4/10\n",
      "1750/1750 [==============================] - 20s 11ms/step - loss: 1.9151\n",
      "Epoch 5/10\n",
      "1750/1750 [==============================] - 22s 12ms/step - loss: 1.8981\n",
      "Epoch 6/10\n",
      "1750/1750 [==============================] - 22s 13ms/step - loss: 1.8859\n",
      "Epoch 7/10\n",
      "1750/1750 [==============================] - 20s 12ms/step - loss: 1.8742\n",
      "Epoch 8/10\n",
      "1750/1750 [==============================] - 21s 12ms/step - loss: 1.8638\n",
      "Epoch 9/10\n",
      "1750/1750 [==============================] - 22s 13ms/step - loss: 1.8521\n",
      "Epoch 10/10\n",
      "1750/1750 [==============================] - 21s 12ms/step - loss: 1.8468\n",
      "1750/1750 [==============================] - 7s 4ms/step\n",
      "219/219 [==============================] - 1s 4ms/step\n"
     ]
    }
   ],
   "source": [
    "J_train_, J_cv_, n_layers_list = evaluate_layers_units()"
   ]
  },
  {
   "cell_type": "code",
   "execution_count": 26,
   "metadata": {},
   "outputs": [
    {
     "data": {
      "image/png": "[encoded data removed]",
      "text/plain": [
       "<Figure size 640x480 with 1 Axes>"
      ]
     },
     "metadata": {},
     "output_type": "display_data"
    }
   ],
   "source": [
    "plt.figure(dpi=100)\n",
    "sb.set()\n",
    "plt.plot(n_layers_list, J_train_, 'ro-', lw=3, label=r'$J_{train}$')\n",
    "plt.plot(n_layers_list, J_cv_, 'bo-', lw=3, label=r'$J_{CV}$')\n",
    "plt.xlabel(r'Number of Layers', fontsize=15)\n",
    "plt.ylabel(r'$J$', fontsize=15)\n",
    "plt.legend()\n",
    "plt.show()"
   ]
  },
  {
   "cell_type": "code",
   "execution_count": 27,
   "metadata": {},
   "outputs": [
    {
     "name": "stdout",
     "output_type": "stream",
     "text": [
      "Epoch 1/10\n",
      "1750/1750 [==============================] - 7s 4ms/step - loss: 3.3737\n",
      "Epoch 2/10\n",
      "1750/1750 [==============================] - 7s 4ms/step - loss: 0.8314\n",
      "Epoch 3/10\n",
      "1750/1750 [==============================] - 7s 4ms/step - loss: 0.5738\n",
      "Epoch 4/10\n",
      "1750/1750 [==============================] - 5s 3ms/step - loss: 0.4177\n",
      "Epoch 5/10\n",
      "1750/1750 [==============================] - 5s 3ms/step - loss: 0.3177\n",
      "Epoch 6/10\n",
      "1750/1750 [==============================] - 5s 3ms/step - loss: 0.2566\n",
      "Epoch 7/10\n",
      "1750/1750 [==============================] - 5s 3ms/step - loss: 0.2175\n",
      "Epoch 8/10\n",
      "1750/1750 [==============================] - 5s 3ms/step - loss: 0.1874\n",
      "Epoch 9/10\n",
      "1750/1750 [==============================] - 5s 3ms/step - loss: 0.1699\n",
      "Epoch 10/10\n",
      "1750/1750 [==============================] - 5s 3ms/step - loss: 0.1562\n",
      "1750/1750 [==============================] - 3s 2ms/step\n",
      "219/219 [==============================] - 0s 2ms/step\n",
      "regularization = 0.01\n",
      "Epoch 1/10\n",
      "1750/1750 [==============================] - 6s 3ms/step - loss: 3.5547\n",
      "Epoch 2/10\n",
      "1750/1750 [==============================] - 5s 3ms/step - loss: 1.0818\n",
      "Epoch 3/10\n",
      "1750/1750 [==============================] - 5s 3ms/step - loss: 0.6454\n",
      "Epoch 4/10\n",
      "1750/1750 [==============================] - 5s 3ms/step - loss: 0.4129\n",
      "Epoch 5/10\n",
      "1750/1750 [==============================] - 5s 3ms/step - loss: 0.2976\n",
      "Epoch 6/10\n",
      "1750/1750 [==============================] - 6s 3ms/step - loss: 0.2393\n",
      "Epoch 7/10\n",
      "1750/1750 [==============================] - 5s 3ms/step - loss: 0.2085\n",
      "Epoch 8/10\n",
      "1750/1750 [==============================] - 6s 3ms/step - loss: 0.1869\n",
      "Epoch 9/10\n",
      "1750/1750 [==============================] - 7s 4ms/step - loss: 0.1763\n",
      "Epoch 10/10\n",
      "1750/1750 [==============================] - 8s 5ms/step - loss: 0.1651\n",
      "1750/1750 [==============================] - 3s 2ms/step\n",
      "219/219 [==============================] - 0s 2ms/step\n",
      "regularization = 0.021544346900318832\n",
      "Epoch 1/10\n",
      "1750/1750 [==============================] - 5s 3ms/step - loss: 4.7649\n",
      "Epoch 2/10\n",
      "1750/1750 [==============================] - 5s 3ms/step - loss: 1.3745\n",
      "Epoch 3/10\n",
      "1750/1750 [==============================] - 5s 3ms/step - loss: 0.7052\n",
      "Epoch 4/10\n",
      "1750/1750 [==============================] - 5s 3ms/step - loss: 0.4011\n",
      "Epoch 5/10\n",
      "1750/1750 [==============================] - 5s 3ms/step - loss: 0.2840\n",
      "Epoch 6/10\n",
      "1750/1750 [==============================] - 5s 3ms/step - loss: 0.2329\n",
      "Epoch 7/10\n",
      "1750/1750 [==============================] - 5s 3ms/step - loss: 0.2070\n",
      "Epoch 8/10\n",
      "1750/1750 [==============================] - 5s 3ms/step - loss: 0.1937\n",
      "Epoch 9/10\n",
      "1750/1750 [==============================] - 5s 3ms/step - loss: 0.1862\n",
      "Epoch 10/10\n",
      "1750/1750 [==============================] - 5s 3ms/step - loss: 0.1793\n",
      "1750/1750 [==============================] - 3s 2ms/step\n",
      "219/219 [==============================] - 0s 2ms/step\n",
      "regularization = 0.046415888336127774\n",
      "Epoch 1/10\n",
      "1750/1750 [==============================] - 5s 3ms/step - loss: 6.4038\n",
      "Epoch 2/10\n",
      "1750/1750 [==============================] - 5s 3ms/step - loss: 1.4320\n",
      "Epoch 3/10\n",
      "1750/1750 [==============================] - 5s 3ms/step - loss: 0.5575\n",
      "Epoch 4/10\n",
      "1750/1750 [==============================] - 5s 3ms/step - loss: 0.3218\n",
      "Epoch 5/10\n",
      "1750/1750 [==============================] - 5s 3ms/step - loss: 0.2650\n",
      "Epoch 6/10\n",
      "1750/1750 [==============================] - 5s 3ms/step - loss: 0.2492\n",
      "Epoch 7/10\n",
      "1750/1750 [==============================] - 5s 3ms/step - loss: 0.2397\n",
      "Epoch 8/10\n",
      "1750/1750 [==============================] - 5s 3ms/step - loss: 0.2341\n",
      "Epoch 9/10\n",
      "1750/1750 [==============================] - 6s 4ms/step - loss: 0.2311\n",
      "Epoch 10/10\n",
      "1750/1750 [==============================] - 5s 3ms/step - loss: 0.2290\n",
      "1750/1750 [==============================] - 3s 2ms/step\n",
      "219/219 [==============================] - 1s 2ms/step\n",
      "regularization = 0.1\n",
      "Epoch 1/10\n",
      "1750/1750 [==============================] - 5s 3ms/step - loss: 10.2163\n",
      "Epoch 2/10\n",
      "1750/1750 [==============================] - 5s 3ms/step - loss: 1.6178\n",
      "Epoch 3/10\n",
      "1750/1750 [==============================] - 5s 3ms/step - loss: 0.5199\n",
      "Epoch 4/10\n",
      "1750/1750 [==============================] - 5s 3ms/step - loss: 0.3439\n",
      "Epoch 5/10\n",
      "1750/1750 [==============================] - 5s 3ms/step - loss: 0.3172\n",
      "Epoch 6/10\n",
      "1750/1750 [==============================] - 6s 3ms/step - loss: 0.3066\n",
      "Epoch 7/10\n",
      "1750/1750 [==============================] - 5s 3ms/step - loss: 0.3028\n",
      "Epoch 8/10\n",
      "1750/1750 [==============================] - 5s 3ms/step - loss: 0.2975\n",
      "Epoch 9/10\n",
      "1750/1750 [==============================] - 5s 3ms/step - loss: 0.2950\n",
      "Epoch 10/10\n",
      "1750/1750 [==============================] - 6s 3ms/step - loss: 0.2948\n",
      "1750/1750 [==============================] - 4s 2ms/step\n",
      "219/219 [==============================] - 0s 2ms/step\n",
      "regularization = 0.21544346900318834\n",
      "Epoch 1/10\n",
      "1750/1750 [==============================] - 5s 3ms/step - loss: 13.6584\n",
      "Epoch 2/10\n",
      "1750/1750 [==============================] - 5s 3ms/step - loss: 0.9652\n",
      "Epoch 3/10\n",
      "1750/1750 [==============================] - 5s 3ms/step - loss: 0.4455\n",
      "Epoch 4/10\n",
      "1750/1750 [==============================] - 5s 3ms/step - loss: 0.4136\n",
      "Epoch 5/10\n",
      "1750/1750 [==============================] - 5s 3ms/step - loss: 0.4082\n",
      "Epoch 6/10\n",
      "1750/1750 [==============================] - 5s 3ms/step - loss: 0.4014\n",
      "Epoch 7/10\n",
      "1750/1750 [==============================] - 5s 3ms/step - loss: 0.3998\n",
      "Epoch 8/10\n",
      "1750/1750 [==============================] - 5s 3ms/step - loss: 0.3958\n",
      "Epoch 9/10\n",
      "1750/1750 [==============================] - 5s 3ms/step - loss: 0.3935\n",
      "Epoch 10/10\n",
      "1750/1750 [==============================] - 6s 4ms/step - loss: 0.3900\n",
      "1750/1750 [==============================] - 3s 2ms/step\n",
      "219/219 [==============================] - 1s 3ms/step\n",
      "regularization = 0.46415888336127775\n",
      "Epoch 1/10\n",
      "1750/1750 [==============================] - 7s 4ms/step - loss: 21.9316\n",
      "Epoch 2/10\n",
      "1750/1750 [==============================] - 6s 4ms/step - loss: 0.7789\n",
      "Epoch 3/10\n",
      "1750/1750 [==============================] - 7s 4ms/step - loss: 0.5684\n",
      "Epoch 4/10\n",
      "1750/1750 [==============================] - 5s 3ms/step - loss: 0.5559\n",
      "Epoch 5/10\n",
      "1750/1750 [==============================] - 5s 3ms/step - loss: 0.5527\n",
      "Epoch 6/10\n",
      "1750/1750 [==============================] - 5s 3ms/step - loss: 0.5494\n",
      "Epoch 7/10\n",
      "1750/1750 [==============================] - 5s 3ms/step - loss: 0.5452\n",
      "Epoch 8/10\n",
      "1750/1750 [==============================] - 5s 3ms/step - loss: 0.5424\n",
      "Epoch 9/10\n",
      "1750/1750 [==============================] - 5s 3ms/step - loss: 0.5404\n",
      "Epoch 10/10\n",
      "1750/1750 [==============================] - 5s 3ms/step - loss: 0.5365\n",
      "1750/1750 [==============================] - 3s 2ms/step\n",
      "219/219 [==============================] - 1s 2ms/step\n",
      "regularization = 1.0\n"
     ]
    }
   ],
   "source": [
    "J_train_, J_cv_, reg_list = evaluate_regularization(n_layers=2)"
   ]
  },
  {
   "cell_type": "code",
   "execution_count": 31,
   "metadata": {},
   "outputs": [
    {
     "data": {
      "image/png": "[encoded data removed]",
      "text/plain": [
       "<Figure size 640x480 with 1 Axes>"
      ]
     },
     "metadata": {},
     "output_type": "display_data"
    }
   ],
   "source": [
    "plt.figure(dpi=100)\n",
    "sb.set()\n",
    "plt.plot(reg_list, J_train_, 'ro-', lw=3, label=r'$J_{train}$')\n",
    "plt.plot(reg_list, J_cv_, 'bo-', lw=3, label=r'$J_{CV}$')\n",
    "plt.xlabel(r'$\\lambda$', fontsize=18)\n",
    "plt.ylabel(r'$J$', fontsize=18)\n",
    "plt.legend()\n",
    "plt.show()"
   ]
  },
  {
   "attachments": {},
   "cell_type": "markdown",
   "metadata": {},
   "source": [
    "Let us make a model with parameters found, but for a higher number of epochs:"
   ]
  },
  {
   "cell_type": "code",
   "execution_count": 35,
   "metadata": {},
   "outputs": [
    {
     "name": "stdout",
     "output_type": "stream",
     "text": [
      "Model: \"Multi_Class_Classification_2_layers\"\n",
      "_________________________________________________________________\n",
      " Layer (type)                Output Shape              Param #   \n",
      "=================================================================\n",
      " dense_70 (Dense)            (None, 35)                27475     \n",
      "                                                                 \n",
      " dense_71 (Dense)            (None, 35)                1260      \n",
      "                                                                 \n",
      "=================================================================\n",
      "Total params: 28,735\n",
      "Trainable params: 28,735\n",
      "Non-trainable params: 0\n",
      "_________________________________________________________________\n",
      "Epoch 1/15\n",
      "1750/1750 [==============================] - 5s 3ms/step - loss: 6.8170\n",
      "Epoch 2/15\n",
      "1750/1750 [==============================] - 4s 2ms/step - loss: 2.3205\n",
      "Epoch 3/15\n",
      "1750/1750 [==============================] - 4s 2ms/step - loss: 1.6194\n",
      "Epoch 4/15\n",
      "1750/1750 [==============================] - 4s 2ms/step - loss: 1.1092\n",
      "Epoch 5/15\n",
      "1750/1750 [==============================] - 4s 2ms/step - loss: 0.6785\n",
      "Epoch 6/15\n",
      "1750/1750 [==============================] - 5s 3ms/step - loss: 0.4665\n",
      "Epoch 7/15\n",
      "1750/1750 [==============================] - 3s 2ms/step - loss: 0.3472\n",
      "Epoch 8/15\n",
      "1750/1750 [==============================] - 3s 2ms/step - loss: 0.2806\n",
      "Epoch 9/15\n",
      "1750/1750 [==============================] - 3s 2ms/step - loss: 0.2396\n",
      "Epoch 10/15\n",
      "1750/1750 [==============================] - 4s 2ms/step - loss: 0.2117\n",
      "Epoch 11/15\n",
      "1750/1750 [==============================] - 4s 2ms/step - loss: 0.1913\n",
      "Epoch 12/15\n",
      "1750/1750 [==============================] - 4s 2ms/step - loss: 0.1769\n",
      "Epoch 13/15\n",
      "1750/1750 [==============================] - 4s 2ms/step - loss: 0.1684\n",
      "Epoch 14/15\n",
      "1750/1750 [==============================] - 4s 2ms/step - loss: 0.1625\n",
      "Epoch 15/15\n",
      "1750/1750 [==============================] - 4s 2ms/step - loss: 0.1565\n"
     ]
    },
    {
     "data": {
      "image/png": "[encoded data removed]",
      "text/plain": [
       "<Figure size 640x480 with 1 Axes>"
      ]
     },
     "metadata": {},
     "output_type": "display_data"
    }
   ],
   "source": [
    "shape_init = tf.keras.Input(shape=(len(X[0]),))\n",
    "layers_list = []\n",
    "reg_value = 0.02\n",
    "n_layers = 2\n",
    "\n",
    "for i in range(n_layers):\n",
    "    if i == n_layers-1:\n",
    "        act = 'linear'\n",
    "    else:\n",
    "        act = 'relu'\n",
    "    \n",
    "    #Automatically define number of units for each layer\n",
    "        Ns = m\n",
    "        No = 10\n",
    "        if i == 0:\n",
    "            Ni = n\n",
    "        else:\n",
    "            Ni = units_list[i-1]\n",
    "        units = int(Ns/(2*(Ni+No)))\n",
    "        units_list.append(units)\n",
    "\n",
    "    # units = n_layers * 10 - i*10\n",
    "    layers_list.append(Dense(units=units, activation=act, kernel_regularizer=L2(reg_value)))\n",
    "\n",
    "model = Sequential([shape_init] + layers_list,\n",
    "                name='Multi_Class_Classification_%i_layers'%n_layers\n",
    "                )\n",
    "model.compile(loss=SparseCategoricalCrossentropy(from_logits=True), optimizer=Adam(0.0002))\n",
    "model.summary()\n",
    "history = model.fit(X, y, epochs=15)\n",
    "\n",
    "plt.plot(history.history['loss'])\n",
    "plt.legend(['Train'])\n",
    "plt.show()"
   ]
  },
  {
   "attachments": {},
   "cell_type": "markdown",
   "metadata": {},
   "source": [
    "The learning curve above corresponds to internal measure of epochs vs loss in tensorflow."
   ]
  },
  {
   "cell_type": "code",
   "execution_count": 39,
   "metadata": {},
   "outputs": [
    {
     "name": "stdout",
     "output_type": "stream",
     "text": [
      "1750/1750 [==============================] - 3s 2ms/step\n",
      "219/219 [==============================] - 0s 2ms/step\n",
      "219/219 [==============================] - 1s 2ms/step\n",
      "The misclassification in the train, cross validation and test set respectively were:\n",
      " J_train: 2.17%\n",
      " J_cv: 3.23%\n",
      " J_test: 3.43%\n"
     ]
    }
   ],
   "source": [
    "prediction = model.predict(X)\n",
    "prediction_cv = model.predict(X_cv)\n",
    "prediction_test = model.predict(X_test)\n",
    "\n",
    "J_train = misclassification(X, y, prediction)\n",
    "J_cv = misclassification(X_cv, y_cv, prediction_cv)\n",
    "J_test = misclassification(X_test, y_test, prediction_test)\n",
    "\n",
    "print('The misclassification in the train, cross validation and test set respectively were:\\n J_train: %.2f%%\\n J_cv: %.2f%%\\n J_test: %.2f%%'%(100*J_train, 100*J_cv, 100*J_test))"
   ]
  },
  {
   "attachments": {},
   "cell_type": "markdown",
   "metadata": {},
   "source": [
    "The choices were able to improve the model prediction from $\\sim 4.2$% to $\\sim 3.2$% (reaching $96.8$% of accuracy) in the cross validation dataset, which is an acceptable performance for a very simple test of NN like the ones tested here.\n",
    "\n",
    "Let us save this model to be tested in future:"
   ]
  },
  {
   "cell_type": "code",
   "execution_count": 40,
   "metadata": {},
   "outputs": [
    {
     "name": "stdout",
     "output_type": "stream",
     "text": [
      "INFO:tensorflow:Assets written to: models/mnist/multi_digit_classification_mnist_cv_2_layers\\assets\n"
     ]
    }
   ],
   "source": [
    "model.save('models/mnist/multi_digit_classification_mnist_cv_%s_layers'%2)"
   ]
  },
  {
   "attachments": {},
   "cell_type": "markdown",
   "metadata": {},
   "source": [
    "Let us load the binary classification model (that predicts 0 or 1) to calculate *precision*, *recall* and *F1* metric:"
   ]
  },
  {
   "cell_type": "code",
   "execution_count": 24,
   "metadata": {},
   "outputs": [],
   "source": [
    "loaded_model = tf.keras.models.load_model('models/mnist/binary_digit_classification_mnist')"
   ]
  },
  {
   "cell_type": "code",
   "execution_count": 25,
   "metadata": {},
   "outputs": [],
   "source": [
    "(X,y),(X_test,y_test)  = tf.keras.datasets.mnist.load_data('mnist.npz')\n",
    "\n",
    "X = X.reshape(-1,X[0].shape[0]*X[0].shape[1])\n",
    "X_test = X_test.reshape(-1,X_test[0].shape[0]*X_test[0].shape[1])\n",
    "\n",
    "iy = np.where((y == 0) | (y == 1))\n",
    "y = y[iy]\n",
    "X = X[iy]\n",
    "\n",
    "iyt = np.where((y_test == 0) | (y_test == 1))\n",
    "y_test = y_test[iyt]\n",
    "X_test = X_test[iyt]"
   ]
  },
  {
   "attachments": {},
   "cell_type": "markdown",
   "metadata": {},
   "source": [
    "$$\\text{Precision} = \\frac{\\text{true positives}}{\\text{predicted positives}} = \\frac{\\text{true positives}}{\\text{true positives} + \\text{false positives}}$$\n",
    "\n",
    "$$\\text{Recall} = \\frac{\\text{true positives}}{\\text{actual positives}} = \\frac{\\text{true positives}}{\\text{true positives} + \\text{false negatives}}$$"
   ]
  },
  {
   "cell_type": "code",
   "execution_count": 31,
   "metadata": {},
   "outputs": [
    {
     "name": "stdout",
     "output_type": "stream",
     "text": [
      "67/67 [==============================] - 0s 2ms/step\n",
      "[[9.9992210e-01]\n",
      " [3.0745773e-04]\n",
      " [9.9993169e-01]\n",
      " ...\n",
      " [9.9993169e-01]\n",
      " [3.0745773e-04]\n",
      " [9.9992698e-01]]\n"
     ]
    }
   ],
   "source": [
    "prediction = loaded_model.predict(X_test)\n",
    "print(prediction)"
   ]
  },
  {
   "cell_type": "code",
   "execution_count": 45,
   "metadata": {},
   "outputs": [
    {
     "name": "stdout",
     "output_type": "stream",
     "text": [
      "The precision is 1.00 and the recall is 1.00\n"
     ]
    }
   ],
   "source": [
    "m,n = X_test.shape\n",
    "\n",
    "true_pos = 0\n",
    "true_neg = 0\n",
    "false_pos = 0\n",
    "false_neg = 0\n",
    "\n",
    "for i in range(10):\n",
    "    if prediction[i] > 0.5:\n",
    "        y_pred_i = 1\n",
    "    else:\n",
    "        y_pred_i = 0\n",
    "    \n",
    "    if y_pred_i != y_test[i]:\n",
    "        if y_pred_i == 1:\n",
    "            false_pos += 1\n",
    "        elif y_pred_i == 0:\n",
    "            false_neg += 1\n",
    "    else:\n",
    "        if y_pred_i == 1:\n",
    "            true_pos += 1\n",
    "        elif y_pred_i == 0:\n",
    "            true_neg += 1\n",
    "\n",
    "precision = true_pos/(true_pos + false_pos)\n",
    "recall = true_pos/(true_pos + false_neg)\n",
    "\n",
    "print('The precision is %.2f and the recall is %.2f'%(precision,recall))"
   ]
  },
  {
   "attachments": {},
   "cell_type": "markdown",
   "metadata": {},
   "source": [
    "The algorithm worked perfectly well and is not a good example, but I will still calculate the F1 metric (that will be 1):"
   ]
  },
  {
   "cell_type": "code",
   "execution_count": 46,
   "metadata": {},
   "outputs": [
    {
     "name": "stdout",
     "output_type": "stream",
     "text": [
      "1.0\n"
     ]
    }
   ],
   "source": [
    "F1 = 2*precision*recall/(precision + recall)\n",
    "print(F1)"
   ]
  },
  {
   "attachments": {},
   "cell_type": "markdown",
   "metadata": {},
   "source": [
    "We look for as high as possible F1 metric."
   ]
  }
 ],
 "metadata": {
  "kernelspec": {
   "display_name": "Python 3",
   "language": "python",
   "name": "python3"
  },
  "language_info": {
   "codemirror_mode": {
    "name": "ipython",
    "version": 3
   },
   "file_extension": ".py",
   "mimetype": "text/x-python",
   "name": "python",
   "nbconvert_exporter": "python",
   "pygments_lexer": "ipython3",
   "version": "3.8.5"
  },
  "orig_nbformat": 4,
  "vscode": {
   "interpreter": {
    "hash": "037335531d7621c1b1b0f2b1596a260ebe03ba48a827428118e6a4217105d671"
   }
  }
 },
 "nbformat": 4,
 "nbformat_minor": 2
}
